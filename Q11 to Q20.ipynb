{
 "cells": [
  {
   "cell_type": "markdown",
   "id": "cfe07920-f49c-478e-8288-10f0f1594dcb",
   "metadata": {},
   "source": [
    "## Q11"
   ]
  },
  {
   "cell_type": "code",
   "execution_count": 6,
   "id": "92d1a27d-a49a-49c1-98a2-c43704a0f17d",
   "metadata": {},
   "outputs": [
    {
     "name": "stdin",
     "output_type": "stream",
     "text": [
      "Enter a one word:  I\n"
     ]
    },
    {
     "name": "stdout",
     "output_type": "stream",
     "text": [
      "I is vowel\n"
     ]
    }
   ],
   "source": [
    "x = str(input(\"Enter a one word: \"))\n",
    "\n",
    "if (x == 'a' or x == 'e' or x == 'i' or x == 'o' or x == 'u' or x == 'A' or x == 'E' or x == 'I' or x == 'O' or x == 'U'):\n",
    "    print(f'{x} is vowel')\n",
    "else:\n",
    "    print(f'{x} is a consonant')"
   ]
  },
  {
   "cell_type": "code",
   "execution_count": null,
   "id": "63a652e9-eef7-4045-b5b9-a1152b58b0a0",
   "metadata": {},
   "outputs": [],
   "source": []
  },
  {
   "cell_type": "markdown",
   "id": "531b091c-80c1-4d52-9703-7e85219c5efc",
   "metadata": {},
   "source": [
    "## Q12"
   ]
  },
  {
   "cell_type": "code",
   "execution_count": 9,
   "id": "76ed5a09-cc89-4de3-aa53-56bfdf6f8067",
   "metadata": {},
   "outputs": [
    {
     "name": "stdin",
     "output_type": "stream",
     "text": [
      "Enter a first num:  5\n",
      "Enter a second num:  8\n",
      "Enter a third num:  5\n"
     ]
    },
    {
     "name": "stdout",
     "output_type": "stream",
     "text": [
      "Sum is 0 because two number is same\n"
     ]
    }
   ],
   "source": [
    "a = int(input(\"Enter a first num: \"))\n",
    "b = int(input(\"Enter a second num: \"))\n",
    "c = int(input(\"Enter a third num: \"))\n",
    "\n",
    "if a == b or a == c or b == c:\n",
    "    print(f'Sum is 0 because two number is same')\n",
    "else:\n",
    "    print(f'Sum of three number is {a + b + c}')"
   ]
  },
  {
   "cell_type": "code",
   "execution_count": null,
   "id": "f72e5bfe-eb6e-434f-a2a6-30758cf40afa",
   "metadata": {},
   "outputs": [],
   "source": []
  },
  {
   "cell_type": "markdown",
   "id": "4ff3b0af-b531-4d62-8738-ef70fe73e4d9",
   "metadata": {},
   "source": [
    "## Q13"
   ]
  },
  {
   "cell_type": "code",
   "execution_count": 1,
   "id": "567e2f8d-7037-4369-b7dc-10ad1c7f6bbb",
   "metadata": {},
   "outputs": [
    {
     "name": "stdin",
     "output_type": "stream",
     "text": [
      "Enter a first num:  10\n",
      "Enter a second num:  5\n"
     ]
    },
    {
     "data": {
      "text/plain": [
       "True"
      ]
     },
     "execution_count": 1,
     "metadata": {},
     "output_type": "execute_result"
    }
   ],
   "source": [
    "a = int(input(\"Enter a first num: \"))\n",
    "b = int(input(\"Enter a second num: \"))\n",
    "\n",
    "a == b or ((a + b) == 5) or ((a - b) == 5)"
   ]
  },
  {
   "cell_type": "code",
   "execution_count": null,
   "id": "c6b11bb4-e92f-4cd2-b48d-161822540060",
   "metadata": {},
   "outputs": [],
   "source": []
  },
  {
   "cell_type": "markdown",
   "id": "1937e6a1-65fe-4428-8f78-e91cf696c637",
   "metadata": {},
   "source": [
    "## Q14"
   ]
  },
  {
   "cell_type": "code",
   "execution_count": 2,
   "id": "58840fde-122c-476e-bdb4-a4ddf0350d9b",
   "metadata": {},
   "outputs": [
    {
     "name": "stdin",
     "output_type": "stream",
     "text": [
      "Enter a num:  5\n"
     ]
    },
    {
     "name": "stdout",
     "output_type": "stream",
     "text": [
      "Sum is: 15\n"
     ]
    }
   ],
   "source": [
    "x = int(input(\"Enter a num: \"))\n",
    "\n",
    "sum = 0\n",
    "\n",
    "for i in range(x+1):\n",
    "    sum += i\n",
    "print(f'Sum is: {sum}')"
   ]
  },
  {
   "cell_type": "code",
   "execution_count": null,
   "id": "a566139e-be8e-4bde-b04b-b87f16cc79a5",
   "metadata": {},
   "outputs": [],
   "source": []
  },
  {
   "cell_type": "markdown",
   "id": "d3b46f18-1e49-4864-a5fb-4514e0dd7c92",
   "metadata": {},
   "source": [
    "## Q15"
   ]
  },
  {
   "cell_type": "code",
   "execution_count": 5,
   "id": "532790a2-23c9-48d7-947b-bb4451ec1d77",
   "metadata": {},
   "outputs": [
    {
     "name": "stdin",
     "output_type": "stream",
     "text": [
      "Enter a word:  sahil\n"
     ]
    },
    {
     "name": "stdout",
     "output_type": "stream",
     "text": [
      "5\n"
     ]
    }
   ],
   "source": [
    "x = str(input(\"Enter a word: \"))\n",
    "\n",
    "print(len(x))"
   ]
  },
  {
   "cell_type": "code",
   "execution_count": null,
   "id": "11c549fa-90fd-4273-babb-69d67d17264e",
   "metadata": {},
   "outputs": [],
   "source": []
  },
  {
   "cell_type": "markdown",
   "id": "a59fc398-9ed0-446b-84b5-054854eca0f9",
   "metadata": {},
   "source": [
    "## Q16"
   ]
  },
  {
   "cell_type": "code",
   "execution_count": 20,
   "id": "05719566-d44d-4b08-b49d-0c29c652c782",
   "metadata": {},
   "outputs": [
    {
     "name": "stdin",
     "output_type": "stream",
     "text": [
      "Enter a word:  sahil\n"
     ]
    },
    {
     "name": "stdout",
     "output_type": "stream",
     "text": [
      "s: 1,  a: 1,  h: 1,  i: 1,  l: 1,  "
     ]
    }
   ],
   "source": [
    "x = str(input(\"Enter a word: \"))\n",
    "\n",
    "for i in x:\n",
    "    freq = x.count(i)\n",
    "    print(f'{i}: {freq}', end=\",  \")"
   ]
  },
  {
   "cell_type": "code",
   "execution_count": null,
   "id": "3ee3b267-22dc-4e34-bfe1-6f4a75b53af3",
   "metadata": {},
   "outputs": [],
   "source": []
  },
  {
   "cell_type": "markdown",
   "id": "7c7b04a6-360d-49e8-bf95-a53f6acbf1b5",
   "metadata": {},
   "source": [
    "## Q17"
   ]
  },
  {
   "cell_type": "markdown",
   "id": "4dd07154-9e44-4909-9d77-f0d6762d4c8a",
   "metadata": {},
   "source": [
    "Negative indexing allows you to access elements of a sequence from the end, using negative numbers as indexes."
   ]
  },
  {
   "cell_type": "code",
   "execution_count": null,
   "id": "544a4cfc-6f76-4d8c-9e45-eba2e822a8fd",
   "metadata": {},
   "outputs": [],
   "source": []
  },
  {
   "cell_type": "markdown",
   "id": "1f2e7a7b-8e8b-4db1-9aaf-cd04d13722be",
   "metadata": {},
   "source": [
    "## Q18"
   ]
  },
  {
   "cell_type": "code",
   "execution_count": 6,
   "id": "f1d601f1-3c0f-414f-9795-96643df37e83",
   "metadata": {},
   "outputs": [
    {
     "name": "stdin",
     "output_type": "stream",
     "text": [
      "Enter a word:  i am sahil, sahil is great student!\n",
      "what word you find:  sahil\n"
     ]
    },
    {
     "name": "stdout",
     "output_type": "stream",
     "text": [
      "Your word is sahil occurrence: 2 time\n"
     ]
    }
   ],
   "source": [
    "x = str(input(\"Enter a word: \"))\n",
    "find = str(input(\"what word you find: \"))\n",
    "\n",
    "print(f'Your word is {find} occurrence: {x.count(find)} time')"
   ]
  },
  {
   "cell_type": "code",
   "execution_count": null,
   "id": "a6f2a6d5-3a5b-4334-92a8-d2e922dbafa1",
   "metadata": {},
   "outputs": [],
   "source": []
  },
  {
   "cell_type": "markdown",
   "id": "e7c2eedc-425c-451f-8c43-117ebe14219f",
   "metadata": {},
   "source": [
    "## Q19"
   ]
  },
  {
   "cell_type": "code",
   "execution_count": 7,
   "id": "bf83580a-12a2-4061-863a-36d2122e6cc7",
   "metadata": {},
   "outputs": [
    {
     "name": "stdin",
     "output_type": "stream",
     "text": [
      "Enter a word:  hello i am sahil sahil is a great student\n"
     ]
    },
    {
     "name": "stdout",
     "output_type": "stream",
     "text": [
      "{'hello': 1, 'i': 1, 'am': 1, 'sahil': 2, 'is': 1, 'a': 1, 'great': 1, 'student': 1}\n"
     ]
    }
   ],
   "source": [
    "x = str(input(\"Enter a word: \"))\n",
    "\n",
    "# create a dictionary store a unique frequencies.\n",
    "count = dict()\n",
    "\n",
    "# split all words\n",
    "words = x.split()\n",
    "\n",
    "for i in words:\n",
    "    if i in count:\n",
    "        count[i] += 1\n",
    "    else:\n",
    "        count[i] = 1\n",
    "\n",
    "print(count)\n"
   ]
  },
  {
   "cell_type": "code",
   "execution_count": null,
   "id": "fa393e1d-d85a-432a-9100-19c9ed411262",
   "metadata": {},
   "outputs": [],
   "source": []
  },
  {
   "cell_type": "markdown",
   "id": "09c0746b-39e3-45d3-8a51-f3c41b8b6d9c",
   "metadata": {},
   "source": [
    "## Q20"
   ]
  },
  {
   "cell_type": "code",
   "execution_count": 8,
   "id": "b2f1dc77-9262-4619-9949-fb922dd70a14",
   "metadata": {},
   "outputs": [
    {
     "name": "stdout",
     "output_type": "stream",
     "text": [
      "Before Swap: abc, xyz\n",
      "After Swap: xyc, abz\n"
     ]
    }
   ],
   "source": [
    "a = 'abc'\n",
    "b = 'xyz'\n",
    "print(f'Before Swap: {a}, {b}')\n",
    "a1 = b[:2] + a[2:]\n",
    "b1 = a[:2] + b[2:]\n",
    "print(f'After Swap: {a1}, {b1}')"
   ]
  },
  {
   "cell_type": "code",
   "execution_count": null,
   "id": "0c7a7379-9cc5-4577-ad99-a70361f9044e",
   "metadata": {},
   "outputs": [],
   "source": []
  },
  {
   "cell_type": "code",
   "execution_count": null,
   "id": "ad822101-13d1-4b4a-b110-4a520cd853fe",
   "metadata": {},
   "outputs": [],
   "source": []
  },
  {
   "cell_type": "code",
   "execution_count": null,
   "id": "6ad49039-6eea-4675-8bc2-1c9a9ea83640",
   "metadata": {},
   "outputs": [],
   "source": []
  },
  {
   "cell_type": "code",
   "execution_count": null,
   "id": "a8484e0b-9f77-4302-b2c0-166e57b03c50",
   "metadata": {},
   "outputs": [],
   "source": []
  }
 ],
 "metadata": {
  "kernelspec": {
   "display_name": "Python 3 (ipykernel)",
   "language": "python",
   "name": "python3"
  },
  "language_info": {
   "codemirror_mode": {
    "name": "ipython",
    "version": 3
   },
   "file_extension": ".py",
   "mimetype": "text/x-python",
   "name": "python",
   "nbconvert_exporter": "python",
   "pygments_lexer": "ipython3",
   "version": "3.8.10"
  }
 },
 "nbformat": 4,
 "nbformat_minor": 5
}
