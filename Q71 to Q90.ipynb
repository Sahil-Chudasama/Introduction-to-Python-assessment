{
 "cells": [
  {
   "cell_type": "markdown",
   "id": "e3710e99-ea7c-47b5-bd43-783dd3344935",
   "metadata": {},
   "source": [
    "### Q71"
   ]
  },
  {
   "cell_type": "markdown",
   "id": "02261898-c2c5-4d68-8d1e-3320dd933484",
   "metadata": {},
   "source": [
    "In Python, the file object represents a file on the filesystem. It provides methods for reading, writing, and performing other operations on files. To work with files in Python, you typically use the built-in open() function to create a file object."
   ]
  },
  {
   "cell_type": "code",
   "execution_count": null,
   "id": "787f483c-64af-4529-ac85-6ea1d262efeb",
   "metadata": {},
   "outputs": [],
   "source": []
  },
  {
   "cell_type": "markdown",
   "id": "c438707c-c0ae-4e84-88e8-20ce673aed25",
   "metadata": {},
   "source": [
    "### Q72"
   ]
  },
  {
   "cell_type": "code",
   "execution_count": 7,
   "id": "9bfe1352-1bb3-4695-9170-ba1aab593de1",
   "metadata": {},
   "outputs": [
    {
     "name": "stdout",
     "output_type": "stream",
     "text": [
      "hello i am sahil chudasama\n",
      "\n",
      "This is some new text.\n",
      "\n",
      "This is some new text.\n",
      "\n"
     ]
    }
   ],
   "source": [
    "def read_text_file(filename):\n",
    "  \"Reads an entire text file and returns its contents as a string.\"\n",
    "\n",
    "  with open(filename, 'r') as file:\n",
    "    content = file.read()\n",
    "  return content\n",
    "\n",
    "filename = \"my_file.txt\"\n",
    "content = read_text_file(filename)\n",
    "print(content)"
   ]
  },
  {
   "cell_type": "code",
   "execution_count": null,
   "id": "25402f4b-a106-40b8-aa74-4ee687d297db",
   "metadata": {},
   "outputs": [],
   "source": []
  },
  {
   "cell_type": "markdown",
   "id": "df499ac8-ac57-4c8f-8d9a-0db88d1d1370",
   "metadata": {},
   "source": [
    "### Q73"
   ]
  },
  {
   "cell_type": "code",
   "execution_count": 8,
   "id": "e7f6e815-97d1-4a83-8255-dbef57654e4a",
   "metadata": {},
   "outputs": [
    {
     "name": "stdout",
     "output_type": "stream",
     "text": [
      "hello i am sahil chudasama\n",
      "\n",
      "This is some new text.\n",
      "\n",
      "This is some new text.\n",
      "\n",
      "This is some new text.\n",
      "\n"
     ]
    }
   ],
   "source": [
    "def append_text_to_file(filename, text):\n",
    "  \"Appends text to a file and displays the entire contents.\"\n",
    "\n",
    "  with open(filename, 'a') as file:\n",
    "    file.write('\\n' + text + '\\n')\n",
    "\n",
    "  with open(filename, 'r') as file:\n",
    "    content = file.read()\n",
    "    print(content)\n",
    "\n",
    "filename = \"my_file.txt\"\n",
    "text_to_append = \"This is some new text.\"\n",
    "\n",
    "append_text_to_file(filename, text_to_append)"
   ]
  },
  {
   "cell_type": "code",
   "execution_count": null,
   "id": "b104bdc3-4f70-421b-8d2f-320d100fcec7",
   "metadata": {},
   "outputs": [],
   "source": []
  },
  {
   "cell_type": "markdown",
   "id": "d8ddf1ed-169b-4df0-b234-1f93d0d9fcb9",
   "metadata": {},
   "source": [
    "### Q74"
   ]
  },
  {
   "cell_type": "code",
   "execution_count": 9,
   "id": "5001f3cd-96c8-4a2f-afc5-a1e9e6487fc0",
   "metadata": {},
   "outputs": [
    {
     "name": "stdout",
     "output_type": "stream",
     "text": [
      "hello i am sahil chudasama\n",
      "\n",
      "This is some new text.\n",
      "\n",
      "This is some new text.\n"
     ]
    }
   ],
   "source": [
    "def read_first_n_lines(filename, n):\n",
    "    \"Reads the first n lines of a file.\"\n",
    "\n",
    "    with open(filename, 'r') as file:\n",
    "        lines = file.readlines()\n",
    "        return lines[:n]\n",
    "\n",
    "\n",
    "filename = \"my_file.txt\"\n",
    "n = 5  # Number of lines to read\n",
    "\n",
    "lines = read_first_n_lines(filename, n)\n",
    "for line in lines:\n",
    "    print(line.strip())"
   ]
  },
  {
   "cell_type": "code",
   "execution_count": null,
   "id": "4b3dd72b-e54e-4a46-a655-f81ac1f753c5",
   "metadata": {},
   "outputs": [],
   "source": []
  },
  {
   "cell_type": "markdown",
   "id": "265731ea-29ba-4a52-aac6-90ec7b5ef16d",
   "metadata": {},
   "source": [
    "### Q75"
   ]
  },
  {
   "cell_type": "code",
   "execution_count": 10,
   "id": "7f75949d-c7a1-44ec-a2f1-23a711f10695",
   "metadata": {},
   "outputs": [
    {
     "name": "stdout",
     "output_type": "stream",
     "text": [
      "This is some new text.\n"
     ]
    }
   ],
   "source": [
    "def read_first_n_lines(filename, n):\n",
    "    \"Reads the first n lines of a file.\"\n",
    "\n",
    "    with open(filename, 'r') as file:\n",
    "        lines = file.readlines()\n",
    "        return lines[-n:]\n",
    "\n",
    "\n",
    "filename = \"my_file.txt\"\n",
    "n = 1  # Number of lines to read\n",
    "\n",
    "lines = read_first_n_lines(filename, n)\n",
    "for line in lines:\n",
    "    print(line.strip())"
   ]
  },
  {
   "cell_type": "code",
   "execution_count": null,
   "id": "3791f498-9871-4e6a-baff-017f637cdf17",
   "metadata": {},
   "outputs": [],
   "source": []
  },
  {
   "cell_type": "markdown",
   "id": "38f327bb-9673-4e69-8118-46e7d13b88ad",
   "metadata": {},
   "source": [
    "### Q77"
   ]
  },
  {
   "cell_type": "code",
   "execution_count": 11,
   "id": "770547c9-2df0-43e7-b1e1-c51ae9e3124a",
   "metadata": {},
   "outputs": [
    {
     "name": "stdout",
     "output_type": "stream",
     "text": [
      "hello i am sahil chudasama\n",
      "\n",
      "This is some new text.\n",
      "\n",
      "This is some new text.\n",
      "\n",
      "This is some new text.\n"
     ]
    }
   ],
   "source": [
    "def read_file_lines(filename):\n",
    "    \"Reads a file line by line and stores it in a list.\"\n",
    "\n",
    "    with open(filename, 'r') as file:\n",
    "        lines = file.readlines()\n",
    "    return lines\n",
    "\n",
    "\n",
    "filename = \"my_file.txt\"\n",
    "lines = read_file_lines(filename)\n",
    "\n",
    "for line in lines:\n",
    "    print(line.strip()) "
   ]
  },
  {
   "cell_type": "code",
   "execution_count": null,
   "id": "1e0f3171-9736-4fed-aa9e-84eff8f12667",
   "metadata": {},
   "outputs": [],
   "source": []
  },
  {
   "cell_type": "markdown",
   "id": "2bc59acb-c0f0-4f4a-a6de-d5862b4e56e0",
   "metadata": {},
   "source": [
    "### Q78"
   ]
  },
  {
   "cell_type": "code",
   "execution_count": null,
   "id": "aba1d2ce-b11c-4fe7-969d-99abd087d037",
   "metadata": {},
   "outputs": [],
   "source": []
  },
  {
   "cell_type": "code",
   "execution_count": null,
   "id": "f34fd104-e7c9-4cc3-afdf-29500c20fa43",
   "metadata": {},
   "outputs": [],
   "source": []
  },
  {
   "cell_type": "markdown",
   "id": "ebcec283-f95f-49a8-8c5d-40c1220d27eb",
   "metadata": {},
   "source": [
    "### Q79"
   ]
  },
  {
   "cell_type": "code",
   "execution_count": 12,
   "id": "bc84454c-db88-4af7-bea3-b4414673877c",
   "metadata": {},
   "outputs": [
    {
     "name": "stdout",
     "output_type": "stream",
     "text": [
      "Number of lines: 7\n"
     ]
    }
   ],
   "source": [
    "def count_lines_in_file(filename):\n",
    "  \"Counts the number of lines in a text file.\"\n",
    "\n",
    "  with open(filename, 'r') as file:\n",
    "    line_count = 0\n",
    "    for line in file:\n",
    "      line_count += 1\n",
    "  return line_count\n",
    "\n",
    "\n",
    "filename = \"my_file.txt\"\n",
    "line_count = count_lines_in_file(filename)\n",
    "print(\"Number of lines:\", line_count)"
   ]
  },
  {
   "cell_type": "code",
   "execution_count": null,
   "id": "88f01155-bfe0-4286-80ad-079c455b0e30",
   "metadata": {},
   "outputs": [],
   "source": []
  },
  {
   "cell_type": "markdown",
   "id": "3830ba6c-0a1c-4242-a535-5f9b27bf536e",
   "metadata": {},
   "source": [
    "### Q80"
   ]
  },
  {
   "cell_type": "code",
   "execution_count": 13,
   "id": "a7c42ea9-a838-4092-87f7-8e1d52689f99",
   "metadata": {},
   "outputs": [
    {
     "name": "stdout",
     "output_type": "stream",
     "text": [
      "Counter({'This': 3, 'is': 3, 'some': 3, 'new': 3, 'text.': 3, 'hello': 1, 'i': 1, 'am': 1, 'sahil': 1, 'chudasama': 1})\n"
     ]
    }
   ],
   "source": [
    "from collections import Counter\n",
    "\n",
    "def count_word_frequency(filename):\n",
    "  \"Counts the frequency of words in a text file.\"\n",
    "\n",
    "  with open(filename, 'r') as file:\n",
    "    words = file.read().split()\n",
    "    word_count = Counter(words)\n",
    "  return word_count\n",
    "\n",
    "\n",
    "filename = \"my_file.txt\"\n",
    "word_frequency = count_word_frequency(filename)\n",
    "print(word_frequency)"
   ]
  },
  {
   "cell_type": "code",
   "execution_count": null,
   "id": "9b92af04-49e4-4ac8-a29c-ca0c29891430",
   "metadata": {},
   "outputs": [],
   "source": []
  },
  {
   "cell_type": "markdown",
   "id": "c4ad9710-d24b-421b-8fbe-b6efa6d72d4e",
   "metadata": {},
   "source": [
    "### Q81"
   ]
  },
  {
   "cell_type": "code",
   "execution_count": 16,
   "id": "fc0e42aa-433c-49eb-be4a-38b99ced53dd",
   "metadata": {},
   "outputs": [],
   "source": [
    "def write_list_to_file(filename, data):\n",
    "  \"Writes a list to a file.\"\n",
    "\n",
    "  with open(filename, 'w') as file:\n",
    "    for item in data:\n",
    "      file.write(str(item) + '\\n')\n",
    "\n",
    "\n",
    "my_list = [1, 2, 3, 4, 5]\n",
    "filename = \"my_list.txt\"\n",
    "\n",
    "write_list_to_file(filename, my_list)"
   ]
  },
  {
   "cell_type": "code",
   "execution_count": null,
   "id": "7378b3df-ec1e-4a2a-a29e-033b298f2bb9",
   "metadata": {},
   "outputs": [],
   "source": []
  },
  {
   "cell_type": "markdown",
   "id": "6c57d2ef-b374-4963-b4a3-105593de0ae0",
   "metadata": {},
   "source": [
    "### Q82"
   ]
  },
  {
   "cell_type": "code",
   "execution_count": 17,
   "id": "637d6b1d-080d-453e-a0c5-e4df180c4d07",
   "metadata": {},
   "outputs": [],
   "source": [
    "def copy_file(source_file, destination_file):\n",
    "  \"Copies the contents of one file to another.\"\n",
    "\n",
    "  with open(source_file, 'r') as f_in, open(destination_file, 'w') as f_out:\n",
    "    f_out.write(f_in.read())\n",
    "\n",
    "\n",
    "source_file = \"my_list.txt\"\n",
    "destination_file = \"my_file.txt\"\n",
    "\n",
    "copy_file(source_file, destination_file)"
   ]
  },
  {
   "cell_type": "code",
   "execution_count": null,
   "id": "6bf74e37-72dd-4fcf-8611-cc42e63cebfc",
   "metadata": {},
   "outputs": [],
   "source": []
  },
  {
   "cell_type": "markdown",
   "id": "0b62fd7a-4fec-4353-8594-87db24a7e42c",
   "metadata": {},
   "source": [
    "### Q83"
   ]
  },
  {
   "cell_type": "markdown",
   "id": "31c5c134-3a10-465a-8b55-a5368bf90d9f",
   "metadata": {},
   "source": [
    "Exception handling is a mechanism in Python that allows you to gracefully handle errors that may occur during the execution of your code. This prevents your program from crashing and provides a way to recover from unexpected situations."
   ]
  },
  {
   "cell_type": "markdown",
   "id": "ec879fe6-63c5-4119-b6a0-9408b312a3b6",
   "metadata": {},
   "source": [
    "ValueError, TypeError, NameError, IndexError, KeyError"
   ]
  },
  {
   "cell_type": "markdown",
   "id": "31a2b691-30b0-41a4-b365-d3adee904be2",
   "metadata": {},
   "source": [
    "### Q84"
   ]
  },
  {
   "cell_type": "markdown",
   "id": "4fda8971-f3c2-478c-a8f6-d3e44f494874",
   "metadata": {},
   "source": [
    "A try-except block can have multiple except statements to handle different types of exceptions. This allows you to provide specific error messages or recovery actions for various error conditions."
   ]
  },
  {
   "cell_type": "code",
   "execution_count": null,
   "id": "84f71e6e-77c9-4c58-a5b2-c85215566a34",
   "metadata": {},
   "outputs": [],
   "source": []
  },
  {
   "cell_type": "markdown",
   "id": "bbc42cf2-4010-4469-910a-95a41025cd1b",
   "metadata": {},
   "source": [
    "### Q85"
   ]
  },
  {
   "cell_type": "markdown",
   "id": "1d7f2e7b-487d-45fc-9f6b-1e9df25a4139",
   "metadata": {},
   "source": [
    "the else part of a try-except-else block is a convenient way to execute code that should only be run if no exceptions occur in the try block."
   ]
  },
  {
   "cell_type": "code",
   "execution_count": null,
   "id": "a666ed50-b3f3-4add-adb7-e18095103f0c",
   "metadata": {},
   "outputs": [],
   "source": []
  },
  {
   "cell_type": "markdown",
   "id": "4e4af413-12a8-4c1f-858a-6d4eeedc7963",
   "metadata": {},
   "source": [
    "### Q86"
   ]
  },
  {
   "cell_type": "markdown",
   "id": "cd833f93-3ce1-45c6-b6ad-db81ca999cdf",
   "metadata": {},
   "source": [
    "Yes, a single except block can handle multiple exceptions. You can specify multiple exception types within parentheses, separated by commas."
   ]
  },
  {
   "cell_type": "code",
   "execution_count": null,
   "id": "0a07d2d7-d4f1-4f5c-b183-4026228ac5be",
   "metadata": {},
   "outputs": [],
   "source": []
  },
  {
   "cell_type": "markdown",
   "id": "2b387eb8-a176-4576-a00c-47420632ec0d",
   "metadata": {},
   "source": [
    "### Q87"
   ]
  },
  {
   "cell_type": "markdown",
   "id": "4a5b5701-8a0d-4e4d-ab98-f27383de86b6",
   "metadata": {},
   "source": [
    "The finally block in Python is always executed, regardless of whether an exception is raised or not. It's a useful mechanism for ensuring that certain cleanup operations are performed, such as closing files or releasing resources, even if an exception occurs."
   ]
  },
  {
   "cell_type": "code",
   "execution_count": null,
   "id": "371ce996-b962-4cf9-96e5-de562486bc85",
   "metadata": {},
   "outputs": [],
   "source": []
  },
  {
   "cell_type": "markdown",
   "id": "c4fa37ec-4abb-4fc8-bee3-a9be361a8f3b",
   "metadata": {},
   "source": [
    "### Q88"
   ]
  },
  {
   "cell_type": "code",
   "execution_count": 18,
   "id": "2007a4e4-ab3a-4551-857e-e4e1cc1a54c6",
   "metadata": {},
   "outputs": [
    {
     "name": "stdout",
     "output_type": "stream",
     "text": [
      "Not equal\n"
     ]
    },
    {
     "name": "stderr",
     "output_type": "stream",
     "text": [
      "<>:1: SyntaxWarning: \"is\" with a literal. Did you mean \"==\"?\n",
      "<>:1: SyntaxWarning: \"is\" with a literal. Did you mean \"==\"?\n",
      "C:\\Users\\sahil\\AppData\\Local\\Temp\\ipykernel_12704\\2958177607.py:1: SyntaxWarning: \"is\" with a literal. Did you mean \"==\"?\n",
      "  if '1' is 1:\n"
     ]
    }
   ],
   "source": [
    "if '1' is 1:\n",
    "    print(\"Equal\")\n",
    "else:\n",
    "    print(\"Not equal\")"
   ]
  },
  {
   "cell_type": "markdown",
   "id": "52fd9142-d2d8-4f5c-bf8b-906ea61a49a1",
   "metadata": {},
   "source": [
    "'False'"
   ]
  },
  {
   "cell_type": "markdown",
   "id": "ff4a0876-bfb8-4c85-8f98-b0252fec2e64",
   "metadata": {},
   "source": [
    "### Q89"
   ]
  },
  {
   "cell_type": "code",
   "execution_count": 23,
   "id": "ce67a068-f98d-4f3a-9db5-9f3b1030cca3",
   "metadata": {},
   "outputs": [
    {
     "name": "stdin",
     "output_type": "stream",
     "text": [
      "Enter the first number:  1\n",
      "Enter the second number:  0\n"
     ]
    },
    {
     "name": "stdout",
     "output_type": "stream",
     "text": [
      "Error: Cannot divide by zero.\n",
      "Finally block executed.\n"
     ]
    }
   ],
   "source": [
    "try:\n",
    "    num1 = int(input(\"Enter the first number: \"))\n",
    "    num2 = int(input(\"Enter the second number: \"))\n",
    "    result = num1 / num2\n",
    "    print(\"Result:\", result)\n",
    "except ZeroDivisionError:\n",
    "    print(\"Error: Cannot divide by zero.\")\n",
    "except ValueError:\n",
    "    print(\"Error: Please enter valid numbers.\")\n",
    "finally:\n",
    "    print(\"Finally block executed.\")"
   ]
  },
  {
   "cell_type": "code",
   "execution_count": null,
   "id": "aef82ada-64fd-4f85-999c-f7716927619c",
   "metadata": {},
   "outputs": [],
   "source": []
  },
  {
   "cell_type": "markdown",
   "id": "c0c8d1c5-a10a-40a4-8b6a-d12a52eefee9",
   "metadata": {},
   "source": [
    "### Q90"
   ]
  },
  {
   "cell_type": "code",
   "execution_count": 25,
   "id": "fefbfec4-f9e2-44bb-9a77-6c66e196df66",
   "metadata": {},
   "outputs": [
    {
     "name": "stdin",
     "output_type": "stream",
     "text": [
      "Enter an odd number:  2\n"
     ]
    },
    {
     "name": "stdout",
     "output_type": "stream",
     "text": [
      "Invalid input. Please enter an odd number.\n"
     ]
    },
    {
     "name": "stdin",
     "output_type": "stream",
     "text": [
      "Enter an odd number:  6\n"
     ]
    },
    {
     "name": "stdout",
     "output_type": "stream",
     "text": [
      "Invalid input. Please enter an odd number.\n"
     ]
    },
    {
     "name": "stdin",
     "output_type": "stream",
     "text": [
      "Enter an odd number:  8\n"
     ]
    },
    {
     "name": "stdout",
     "output_type": "stream",
     "text": [
      "Invalid input. Please enter an odd number.\n"
     ]
    },
    {
     "name": "stdin",
     "output_type": "stream",
     "text": [
      "Enter an odd number:  5\n"
     ]
    },
    {
     "name": "stdout",
     "output_type": "stream",
     "text": [
      "You entered: 5\n"
     ]
    }
   ],
   "source": [
    "def input_odd_number():\n",
    "  \"Prompts the user to enter an odd number and raises an exception if the input is not odd.\"\n",
    "\n",
    "  while True:\n",
    "    try:\n",
    "      number = int(input(\"Enter an odd number: \"))\n",
    "      if number % 2 == 0:\n",
    "        raise ValueError(\"Please enter an odd number.\")\n",
    "      return number\n",
    "    except ValueError:\n",
    "      print(\"Invalid input. Please enter an odd number.\")\n",
    "\n",
    "\n",
    "try:\n",
    "  odd_number = input_odd_number()\n",
    "  print(\"You entered:\", odd_number)\n",
    "except ValueError:\n",
    "  print(\"Error: You did not enter an odd number.\")"
   ]
  }
 ],
 "metadata": {
  "kernelspec": {
   "display_name": "Python 3 (ipykernel)",
   "language": "python",
   "name": "python3"
  },
  "language_info": {
   "codemirror_mode": {
    "name": "ipython",
    "version": 3
   },
   "file_extension": ".py",
   "mimetype": "text/x-python",
   "name": "python",
   "nbconvert_exporter": "python",
   "pygments_lexer": "ipython3",
   "version": "3.8.10"
  }
 },
 "nbformat": 4,
 "nbformat_minor": 5
}
