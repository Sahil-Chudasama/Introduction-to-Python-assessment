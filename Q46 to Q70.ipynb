{
 "cells": [
  {
   "cell_type": "code",
   "execution_count": 1,
   "id": "0e1d2977-e777-4d12-8c33-15c31ee8f115",
   "metadata": {},
   "outputs": [],
   "source": [
    "import pandas as pd"
   ]
  },
  {
   "cell_type": "markdown",
   "id": "b55afd1c-9eaf-402b-938f-f931538f019b",
   "metadata": {},
   "source": [
    "### Q46"
   ]
  },
  {
   "cell_type": "code",
   "execution_count": 2,
   "id": "efe48bcb-b250-4f52-9f21-83aed69b9e94",
   "metadata": {},
   "outputs": [
    {
     "name": "stdout",
     "output_type": "stream",
     "text": [
      "{'a': 1, 'b': 2, 'c': 3}\n"
     ]
    }
   ],
   "source": [
    "def tuples_to_dict(tuples):\n",
    "  \"Converts a list of tuples into a dictionary.\"\n",
    "\n",
    "  dictionary = {}\n",
    "  for key, value in tuples:\n",
    "    dictionary[key] = value\n",
    "  return dictionary\n",
    "\n",
    "# Example usage:\n",
    "tuples = [('a', 1), ('b', 2), ('c', 3)]\n",
    "dictionary = tuples_to_dict(tuples)\n",
    "print(dictionary)"
   ]
  },
  {
   "cell_type": "code",
   "execution_count": null,
   "id": "d7ab7a66-04c7-4134-bca4-ddfa34871c28",
   "metadata": {},
   "outputs": [],
   "source": []
  },
  {
   "cell_type": "markdown",
   "id": "b8f0660c-5520-4c75-a410-f7331a3e9ff1",
   "metadata": {},
   "source": [
    "### Q47"
   ]
  },
  {
   "cell_type": "code",
   "execution_count": 3,
   "id": "82f94701-7d3d-4a77-ad63-3680f9ef388e",
   "metadata": {},
   "outputs": [
    {
     "name": "stdout",
     "output_type": "stream",
     "text": [
      "{'a': 1, 'b': 2, 'c': 3}\n"
     ]
    }
   ],
   "source": [
    "tuples = [('a', 1), ('b', 2), ('c', 3)]\n",
    "dictionary = {key: value for key, value in tuples}\n",
    "print(dictionary)"
   ]
  },
  {
   "cell_type": "code",
   "execution_count": null,
   "id": "2423b0b9-ab84-4079-a4ee-075a2974110a",
   "metadata": {},
   "outputs": [],
   "source": []
  },
  {
   "cell_type": "markdown",
   "id": "03242220-49e2-4854-8c1d-4fb1414fc0d6",
   "metadata": {},
   "source": [
    "### Q48"
   ]
  },
  {
   "cell_type": "code",
   "execution_count": 4,
   "id": "fccee798-7163-42fa-a168-12d825581bd9",
   "metadata": {},
   "outputs": [
    {
     "name": "stdout",
     "output_type": "stream",
     "text": [
      "Ascending order: {'b': 1, 'c': 2, 'a': 3}\n",
      "Descending order: {'a': 3, 'c': 2, 'b': 1}\n"
     ]
    }
   ],
   "source": [
    "def sort_dictionary_by_value(dictionary, ascending=True):\n",
    "  \"\"\"Sorts a dictionary by value in ascending or descending order.\n",
    "  Returns:\n",
    "    A new dictionary sorted by value.\n",
    "  \"\"\"\n",
    "\n",
    "  sorted_items = sorted(dictionary.items(), key=lambda item: item[1], reverse=not ascending)\n",
    "  sorted_dict = dict(sorted_items)\n",
    "  return sorted_dict\n",
    "\n",
    "\n",
    "my_dict = {'a': 3, 'b': 1, 'c': 2}\n",
    "\n",
    "\n",
    "ascending_dict = sort_dictionary_by_value(my_dict)\n",
    "print(\"Ascending order:\", ascending_dict)\n",
    "\n",
    "descending_dict = sort_dictionary_by_value(my_dict, ascending=False)\n",
    "print(\"Descending order:\", descending_dict)"
   ]
  },
  {
   "cell_type": "code",
   "execution_count": null,
   "id": "e7858c71-9289-402c-ad2f-0dc8334b1e87",
   "metadata": {},
   "outputs": [],
   "source": []
  },
  {
   "cell_type": "markdown",
   "id": "d525b15a-8f8c-4587-a6d2-dbd4ec93486b",
   "metadata": {},
   "source": [
    "### Q49"
   ]
  },
  {
   "cell_type": "code",
   "execution_count": 5,
   "id": "34c9e3a7-9227-4f29-aebc-a3dda3e726d5",
   "metadata": {},
   "outputs": [
    {
     "name": "stdout",
     "output_type": "stream",
     "text": [
      "{'a': 1, 'b': 2, 'c': 3, 'd': 4, 'e': 5}\n"
     ]
    }
   ],
   "source": [
    "def concatenate_dictionaries(*dicts):\n",
    "  \"\"\"Concatenates multiple dictionaries into a new one.\"\"\"\n",
    "\n",
    "  result = {}\n",
    "  for d in dicts:\n",
    "    result.update(d)\n",
    "  return result\n",
    "\n",
    "\n",
    "dict1 = {'a': 1, 'b': 2}\n",
    "dict2 = {'c': 3, 'd': 4}\n",
    "dict3 = {'e': 5}\n",
    "\n",
    "concatenated_dict = concatenate_dictionaries(dict1, dict2, dict3)\n",
    "print(concatenated_dict)"
   ]
  },
  {
   "cell_type": "code",
   "execution_count": null,
   "id": "213b17cd-5285-409d-9c28-65963e87c542",
   "metadata": {},
   "outputs": [],
   "source": []
  },
  {
   "cell_type": "markdown",
   "id": "23e780a2-26a3-42b1-bedd-d0149bd48f61",
   "metadata": {},
   "source": [
    "### Q50"
   ]
  },
  {
   "cell_type": "code",
   "execution_count": 6,
   "id": "9e54b164-21c4-4d4e-b8de-9f025e0e1ca4",
   "metadata": {},
   "outputs": [
    {
     "name": "stdout",
     "output_type": "stream",
     "text": [
      "Key exists in the dictionary.\n"
     ]
    }
   ],
   "source": [
    "def key_exists(dictionary, key):\n",
    "  \"\"\"Checks if a key exists in a dictionary.\"\"\"\n",
    "\n",
    "  if key in dictionary:\n",
    "    return True\n",
    "  else:\n",
    "    return False\n",
    "\n",
    "\n",
    "my_dict = {'a': 1, 'b': 2, 'c': 3}\n",
    "key_to_check = 'a'\n",
    "\n",
    "if key_exists(my_dict, key_to_check):\n",
    "  print(\"Key exists in the dictionary.\")\n",
    "else:\n",
    "  print(\"Key does not exist in the dictionary.\")"
   ]
  },
  {
   "cell_type": "code",
   "execution_count": null,
   "id": "b76894c5-7ae5-4d10-9d31-b4d7af06b1d8",
   "metadata": {},
   "outputs": [],
   "source": []
  },
  {
   "cell_type": "markdown",
   "id": "840644e1-e560-499b-b2d9-b360104d5fbb",
   "metadata": {},
   "source": [
    "### Q51"
   ]
  },
  {
   "cell_type": "code",
   "execution_count": null,
   "id": "27a3f0da-298b-4a68-9ef7-81a0fbb4aceb",
   "metadata": {},
   "outputs": [],
   "source": [
    "Traversing a dictionary in Python involves iterating over its key-value pairs. \n",
    "Using a for loop\n",
    "Using the keys() method\n",
    "Using the values() method\n",
    "Using the items() method with unpacking"
   ]
  },
  {
   "cell_type": "code",
   "execution_count": null,
   "id": "b14cc986-bc57-498f-a9ce-aa39d6f6fb02",
   "metadata": {},
   "outputs": [],
   "source": []
  },
  {
   "cell_type": "markdown",
   "id": "d5724557-ea80-461d-aa3b-ce0fe65b9655",
   "metadata": {},
   "source": [
    "### Q52"
   ]
  },
  {
   "cell_type": "code",
   "execution_count": 7,
   "id": "fc8c5404-5a0f-4c7a-8d2a-e439f952ee83",
   "metadata": {},
   "outputs": [
    {
     "name": "stdout",
     "output_type": "stream",
     "text": [
      "Key exists in the dictionary\n"
     ]
    }
   ],
   "source": [
    "dict = {'a': 1, 'b': 2, 'c': 3}\n",
    "\n",
    "key_to_check = 'b'\n",
    "\n",
    "if key_to_check in dict:\n",
    "  print(\"Key exists in the dictionary\")\n",
    "else:\n",
    "  print(\"Key does not exist in the dictionary\")"
   ]
  },
  {
   "cell_type": "code",
   "execution_count": null,
   "id": "1b574cce-7853-4c1a-aad8-fc8dbe6555a4",
   "metadata": {},
   "outputs": [],
   "source": []
  },
  {
   "cell_type": "markdown",
   "id": "c9f2ff88-1a6c-4d6c-9ce0-3b06c828d062",
   "metadata": {},
   "source": [
    "### Q53"
   ]
  },
  {
   "cell_type": "code",
   "execution_count": 9,
   "id": "7344bd13-957a-4f07-9243-4ce2f56bf2b4",
   "metadata": {},
   "outputs": [
    {
     "name": "stdout",
     "output_type": "stream",
     "text": [
      "{1: 1, 2: 4, 3: 9, 4: 16, 5: 25, 6: 36, 7: 49, 8: 64, 9: 81, 10: 100, 11: 121, 12: 144, 13: 169, 14: 196, 15: 225}\n"
     ]
    }
   ],
   "source": [
    "def create_number_dictionary(start, end):\n",
    "  \"Creates a dictionary where the keys are numbers between start and end.\"\n",
    "\n",
    "  dictionary = {}\n",
    "  for i in range(start, end + 1):\n",
    "    dictionary[i] = i**2  # You can change the value calculation here\n",
    "  return dictionary\n",
    "\n",
    "start = 1\n",
    "end = 15\n",
    "number_dict = create_number_dictionary(start, end)\n",
    "print(number_dict)"
   ]
  },
  {
   "cell_type": "code",
   "execution_count": null,
   "id": "374055f9-10c6-4a0f-9019-f2edcf570d53",
   "metadata": {},
   "outputs": [],
   "source": []
  },
  {
   "cell_type": "markdown",
   "id": "68d97aba-f9d4-4325-9790-c7e214db1069",
   "metadata": {},
   "source": [
    "### Q54"
   ]
  },
  {
   "cell_type": "code",
   "execution_count": 10,
   "id": "03d461ac-3c55-4250-811e-64eeb7f6aa2c",
   "metadata": {},
   "outputs": [
    {
     "name": "stdout",
     "output_type": "stream",
     "text": [
      "At least one key does not exist in the dictionary.\n"
     ]
    }
   ],
   "source": [
    "def check_multiple_keys(dictionary, keys):\n",
    "  \"Checks if multiple keys exist in a dictionary.\"\n",
    "\n",
    "  for key in keys:\n",
    "    if key not in dictionary:\n",
    "      return False\n",
    "  return True\n",
    "\n",
    "my_dict = {'a': 1, 'b': 2, 'c': 3}\n",
    "keys_to_check = ['a', 'b', 'd']\n",
    "\n",
    "if check_multiple_keys(my_dict, keys_to_check):\n",
    "  print(\"All keys exist in the dictionary.\")\n",
    "else:\n",
    "  print(\"At least one key does not exist in the dictionary.\")"
   ]
  },
  {
   "cell_type": "code",
   "execution_count": null,
   "id": "8a23bdfe-946b-495c-a2f9-030d53d590b5",
   "metadata": {},
   "outputs": [],
   "source": []
  },
  {
   "cell_type": "markdown",
   "id": "7faccbab-2544-429e-b829-e545f8596462",
   "metadata": {},
   "source": [
    "### Q55"
   ]
  },
  {
   "cell_type": "code",
   "execution_count": 11,
   "id": "5f174ef0-8217-4fe2-a4c0-99ab7340633a",
   "metadata": {},
   "outputs": [
    {
     "name": "stdout",
     "output_type": "stream",
     "text": [
      "{'a': 5, 'b': 2, 'c': 3, 'd': 4}\n"
     ]
    }
   ],
   "source": [
    "def merge_dictionaries(dict1, dict2):\n",
    "  \"Merges two dictionaries\"\n",
    "\n",
    "  merged_dict = dict1.copy()\n",
    "  merged_dict.update(dict2)\n",
    "  return merged_dict\n",
    "\n",
    "dict1 = {'a': 1, 'b': 2}\n",
    "dict2 = {'c': 3, 'd': 4, 'a': 5}\n",
    "\n",
    "merged_dict = merge_dictionaries(dict1, dict2)\n",
    "print(merged_dict)"
   ]
  },
  {
   "cell_type": "code",
   "execution_count": null,
   "id": "64ee9d12-462f-4a72-8bbc-0f79d7ef5f63",
   "metadata": {},
   "outputs": [],
   "source": []
  },
  {
   "cell_type": "markdown",
   "id": "944a9bb7-b3e9-4347-b935-d24b145cf92b",
   "metadata": {},
   "source": [
    "### Q56"
   ]
  },
  {
   "cell_type": "code",
   "execution_count": null,
   "id": "e495458d-2ba7-4289-9f3d-65d35bc02daa",
   "metadata": {},
   "outputs": [],
   "source": [
    "def map_lists_to_dict(keys, values):\n",
    "  \"Maps two lists into a dictionary\"\n",
    "\n",
    "  if len(keys) != len(values):\n",
    "    raise ValueError(\"Lists must have the same length.\")\n",
    "\n",
    "  return dict(zip(keys, values))\n",
    "\n",
    "\n",
    "keys = ['a', 'b', 'c', 'd']\n",
    "values = [400, 400, 400, 300]\n",
    "\n",
    "dictionary = map_lists_to_dict(keys, values)\n",
    "print(dictionary) "
   ]
  },
  {
   "cell_type": "code",
   "execution_count": null,
   "id": "9cc0a244-3834-4127-b064-ba38c6dd5f44",
   "metadata": {},
   "outputs": [],
   "source": []
  },
  {
   "cell_type": "markdown",
   "id": "1997fd48-59e1-4b6b-9a19-ebd07fdc41bf",
   "metadata": {},
   "source": [
    "### Q57"
   ]
  },
  {
   "cell_type": "code",
   "execution_count": 14,
   "id": "89acb683-66f8-4d1a-a50d-ca1937ab72ec",
   "metadata": {},
   "outputs": [
    {
     "name": "stdout",
     "output_type": "stream",
     "text": [
      "Highest 3 values: [20, 15, 10]\n"
     ]
    }
   ],
   "source": [
    "def find_highest_3_values(dictionary):\n",
    "  \"Finds the highest 3 values in a dictionary.\"\n",
    "\n",
    "  sorted_values = sorted(dictionary.values(), reverse=True)\n",
    "  return sorted_values[:3]\n",
    "\n",
    "# Example usage:\n",
    "my_dict = {'a': 10, 'b': 5, 'c': 20, 'd': 15}\n",
    "highest_3 = find_highest_3_values(my_dict)\n",
    "print(\"Highest 3 values:\", highest_3)"
   ]
  },
  {
   "cell_type": "code",
   "execution_count": null,
   "id": "39308890-2750-47ef-b0f6-d823c18f2af1",
   "metadata": {},
   "outputs": [],
   "source": []
  },
  {
   "cell_type": "markdown",
   "id": "b7bc61bb-ccb5-4a9c-98ba-39ec2b2306e9",
   "metadata": {},
   "source": [
    "### Q58"
   ]
  },
  {
   "cell_type": "code",
   "execution_count": 15,
   "id": "f4d53002-95ac-4497-a197-0c921e325706",
   "metadata": {},
   "outputs": [
    {
     "name": "stdout",
     "output_type": "stream",
     "text": [
      "Counter({'item1': 1150, 'item2': 300})\n"
     ]
    }
   ],
   "source": [
    "from collections import Counter\n",
    "\n",
    "def combine_values(dicts):\n",
    "  \"Combines values in a list of dictionaries based on the 'item' key.\"\n",
    "\n",
    "  combined_dict = Counter()\n",
    "  for d in dicts:\n",
    "    combined_dict[d['item']] += d['amount']\n",
    "  return combined_dict\n",
    "\n",
    "# Example usage:\n",
    "data = [{'item': 'item1', 'amount': 400}, {'item': 'item2', 'amount': 300}, {'item': 'item1', 'amount': 750}]\n",
    "combined_data = combine_values(data)\n",
    "print(combined_data)"
   ]
  },
  {
   "cell_type": "markdown",
   "id": "f8d0d3db-f7db-4ba3-ab1c-23e2159bf202",
   "metadata": {},
   "source": []
  },
  {
   "cell_type": "markdown",
   "id": "0f8a0517-16ff-46b6-8c1c-99f1581faaf7",
   "metadata": {},
   "source": [
    "### Q59"
   ]
  },
  {
   "cell_type": "code",
   "execution_count": 16,
   "id": "ecfc5496-92e5-4f01-963c-17786efeb8bf",
   "metadata": {},
   "outputs": [
    {
     "name": "stdout",
     "output_type": "stream",
     "text": [
      "{'h': 1, 'e': 1, 'l': 3, 'o': 2, 'w': 1, 'r': 1, 'd': 1}\n"
     ]
    }
   ],
   "source": [
    "def create_letter_count_dictionary(string):\n",
    "  \"Creates a dictionary where the keys are letters from the string and the values are their counts.\"\n",
    "\n",
    "  letter_count = {}\n",
    "  for char in string:\n",
    "    if char.isalpha():\n",
    "      letter_count[char] = letter_count.get(char, 0) + 1\n",
    "  return letter_count\n",
    "\n",
    "\n",
    "string = \"hello world\"\n",
    "letter_count_dict = create_letter_count_dictionary(string)\n",
    "print(letter_count_dict)"
   ]
  },
  {
   "cell_type": "code",
   "execution_count": null,
   "id": "9324789a-ad77-4d1f-ab13-0399b02b1af7",
   "metadata": {},
   "outputs": [],
   "source": []
  },
  {
   "cell_type": "markdown",
   "id": "c7906849-9c5d-4240-96cc-ee1eaed50f19",
   "metadata": {},
   "source": [
    "### Q60\n"
   ]
  },
  {
   "cell_type": "code",
   "execution_count": 17,
   "id": "8ea0470d-4403-4552-b2d9-f6965a1e6de7",
   "metadata": {},
   "outputs": [
    {
     "name": "stdout",
     "output_type": "stream",
     "text": [
      "{'w': 1, '3': 1, 'r': 2, 'e': 2, 's': 1, 'o': 1, 'u': 1, 'c': 1}\n"
     ]
    }
   ],
   "source": [
    "def count_characters(string):\n",
    "  \"Counts the occurrences of each character in a string.\"\n",
    "\n",
    "  char_count = {}\n",
    "  for char in string:\n",
    "    char_count[char] = char_count.get(char, 0) + 1\n",
    "  return char_count\n",
    "\n",
    "string = \"w3resource\"\n",
    "character_counts = count_characters(string)\n",
    "print(character_counts)"
   ]
  },
  {
   "cell_type": "code",
   "execution_count": null,
   "id": "ca2c944c-09fe-4fad-a113-66b74d3a1557",
   "metadata": {},
   "outputs": [],
   "source": []
  },
  {
   "cell_type": "markdown",
   "id": "b254079f-27ab-48af-82ed-74eb0bd1a25c",
   "metadata": {},
   "source": [
    "### Q61"
   ]
  },
  {
   "cell_type": "code",
   "execution_count": 2,
   "id": "14af2c2f-d69f-4adc-8539-f208747b50a3",
   "metadata": {},
   "outputs": [
    {
     "name": "stdout",
     "output_type": "stream",
     "text": [
      "The factorial of 5 is 120\n"
     ]
    }
   ],
   "source": [
    "def factorial(n):\n",
    "  \"Calculates the factorial of a nonnegative integer.\"\n",
    "\n",
    "  if n < 0:\n",
    "    return None  \n",
    "  elif n == 0 or n == 1:\n",
    "    return 1\n",
    "  else:\n",
    "    return n * factorial(n - 1)\n",
    "\n",
    "number = 5\n",
    "factorial_result = factorial(number)\n",
    "print(\"The factorial of\", number, \"is\", factorial_result)"
   ]
  },
  {
   "cell_type": "code",
   "execution_count": null,
   "id": "f3849a55-756b-4ee9-bc97-548d7b7fba83",
   "metadata": {},
   "outputs": [],
   "source": []
  },
  {
   "cell_type": "markdown",
   "id": "77cc5098-7a5f-4ca7-8964-7d530e852b39",
   "metadata": {},
   "source": [
    "### Q62"
   ]
  },
  {
   "cell_type": "code",
   "execution_count": 3,
   "id": "30472979-2922-4928-8b19-3fc5088d1b7c",
   "metadata": {},
   "outputs": [
    {
     "name": "stdout",
     "output_type": "stream",
     "text": [
      "Number is within the range\n"
     ]
    }
   ],
   "source": [
    "def is_in_range(number, start, end):\n",
    "  \"Checks if a number is within a given range.\"\n",
    "\n",
    "  return start <= number <= end\n",
    "\n",
    "\n",
    "number = 5\n",
    "start_range = 1\n",
    "end_range = 10\n",
    "\n",
    "if is_in_range(number, start_range, end_range):\n",
    "  print(\"Number is within the range\")\n",
    "else:\n",
    "  print(\"Number is outside the range\")"
   ]
  },
  {
   "cell_type": "code",
   "execution_count": null,
   "id": "b6194244-d165-4cfa-9c3c-26a95a990b82",
   "metadata": {},
   "outputs": [],
   "source": []
  },
  {
   "cell_type": "markdown",
   "id": "eb0a12dc-eee0-4620-bb29-570027ecb168",
   "metadata": {},
   "source": [
    "### Q63"
   ]
  },
  {
   "cell_type": "code",
   "execution_count": null,
   "id": "d8535cad-0ff3-42f6-a034-15bed12bb888",
   "metadata": {},
   "outputs": [],
   "source": [
    "def is_perfect_number(number):\n",
    "  \"Checks if a number is perfect.\"\n",
    "\n",
    "  if number <= 0:\n",
    "    return False\n",
    "\n",
    "  sum_of_divisors = 0\n",
    "  for divisor in range(1, number):\n",
    "    if number % divisor == 0:\n",
    "      sum_of_divisors += divisor\n",
    "\n",
    "  return sum_of_divisors == number   \n",
    "\n",
    "\n",
    "\n",
    "number = 28\n",
    "if is_perfect_number(number):\n",
    "  print(number, \"is a perfect number.\")\n",
    "else:\n",
    "  print(number, \"is not a perfect number.\")"
   ]
  },
  {
   "cell_type": "code",
   "execution_count": null,
   "id": "c0245919-2e40-44ee-85a8-c695d8830f76",
   "metadata": {},
   "outputs": [],
   "source": []
  },
  {
   "cell_type": "markdown",
   "id": "f4d62fb0-52d2-46a1-b99b-ccbac83a6bab",
   "metadata": {},
   "source": [
    "### Q64"
   ]
  },
  {
   "cell_type": "code",
   "execution_count": 11,
   "id": "02ae29d6-0af3-479d-a485-26d7335fe66e",
   "metadata": {},
   "outputs": [
    {
     "name": "stdout",
     "output_type": "stream",
     "text": [
      "racecar is a palindrome.\n",
      "hello is not a palindrome.\n"
     ]
    }
   ],
   "source": [
    "def is_palindrome(string):\n",
    "  \"Checks if a string is a palindrome.\"\n",
    "\n",
    "  string = string.replace(' ', '').lower()\n",
    "\n",
    "  # Compare the string with its reversed version\n",
    "  if string == string[::-1]:\n",
    "    return True\n",
    "  else:\n",
    "    return False\n",
    "\n",
    "\n",
    "string1 = \"racecar\"\n",
    "string2 = \"hello\"\n",
    "\n",
    "if is_palindrome(string1):\n",
    "  print(string1, \"is a palindrome.\")\n",
    "else:\n",
    "  print(string1, \"is not a palindrome.\")\n",
    "\n",
    "if is_palindrome(string2):\n",
    "  print(string2, \"is a palindrome.\")\n",
    "else:\n",
    "  print(string2, \"is not a palindrome.\") "
   ]
  },
  {
   "cell_type": "code",
   "execution_count": null,
   "id": "296e69cf-2676-43f8-97f3-e24743002679",
   "metadata": {},
   "outputs": [],
   "source": []
  },
  {
   "cell_type": "markdown",
   "id": "bb5133a5-90be-4b2d-9265-cba5e664c6a9",
   "metadata": {},
   "source": [
    "### Q65"
   ]
  },
  {
   "cell_type": "code",
   "execution_count": null,
   "id": "04cee915-70c4-418b-b6c6-d7560e5a52e7",
   "metadata": {},
   "outputs": [],
   "source": [
    "1.Built-in functions\n",
    "2.User-defined functions\n",
    "3.lambda function"
   ]
  },
  {
   "cell_type": "code",
   "execution_count": null,
   "id": "8bd23931-9500-4403-85a3-f0c80cdd5267",
   "metadata": {},
   "outputs": [],
   "source": []
  },
  {
   "cell_type": "markdown",
   "id": "710c6edc-ba0b-4279-acf8-305404f3b1ac",
   "metadata": {},
   "source": [
    "### Q66"
   ]
  },
  {
   "cell_type": "code",
   "execution_count": 13,
   "id": "e3bd9f87-3d1e-4c86-a2e7-1ea2d0776646",
   "metadata": {},
   "outputs": [
    {
     "name": "stdout",
     "output_type": "stream",
     "text": [
      "4\n",
      "a\n"
     ]
    }
   ],
   "source": [
    "import random\n",
    "\n",
    "my_list = [1, 2, 3, 4, 5]\n",
    "my_tuple = ('a', 'b', 'c')\n",
    "\n",
    "random_item_from_list = random.choice(my_list)\n",
    "random_item_from_tuple = random.choice(my_tuple)\n",
    "\n",
    "print(random_item_from_list)\n",
    "print(random_item_from_tuple)"
   ]
  },
  {
   "cell_type": "code",
   "execution_count": null,
   "id": "f1d64c0c-cf47-47e8-bca3-88c4f01a0192",
   "metadata": {},
   "outputs": [],
   "source": []
  },
  {
   "cell_type": "markdown",
   "id": "9c78a84a-9a36-4c8e-ad45-50133fd0756d",
   "metadata": {},
   "source": [
    "### Q67"
   ]
  },
  {
   "cell_type": "code",
   "execution_count": 15,
   "id": "b0189d77-c377-420b-be17-54805e65e29e",
   "metadata": {},
   "outputs": [
    {
     "name": "stdout",
     "output_type": "stream",
     "text": [
      "3\n"
     ]
    }
   ],
   "source": [
    "import random\n",
    "\n",
    "start_range = 1\n",
    "end_range = 10\n",
    "\n",
    "random_number = random.randint(start_range, end_range)\n",
    "print(random_number)"
   ]
  },
  {
   "cell_type": "code",
   "execution_count": null,
   "id": "49d4ec54-5966-4f55-9d4b-82babb51c53a",
   "metadata": {},
   "outputs": [],
   "source": []
  },
  {
   "cell_type": "markdown",
   "id": "69dbeeac-4a58-4bcc-ab35-d6e485eee97d",
   "metadata": {},
   "source": [
    "### Q68"
   ]
  },
  {
   "cell_type": "code",
   "execution_count": 16,
   "id": "3bf8a4b6-ab77-4ed9-8f8c-c76a877d1462",
   "metadata": {},
   "outputs": [
    {
     "name": "stdout",
     "output_type": "stream",
     "text": [
      "8\n"
     ]
    }
   ],
   "source": [
    "import random\n",
    "\n",
    "random_number = random.randint(1, 10)  # Generates a random integer between 1 and 10\n",
    "print(random_number)"
   ]
  },
  {
   "cell_type": "code",
   "execution_count": null,
   "id": "93a51ec9-ac35-43bc-afe3-a0746381f9a7",
   "metadata": {},
   "outputs": [],
   "source": []
  },
  {
   "cell_type": "markdown",
   "id": "68b483fa-a335-4f90-96fe-dea936859ed1",
   "metadata": {},
   "source": [
    "### Q69"
   ]
  },
  {
   "cell_type": "code",
   "execution_count": 20,
   "id": "20ce285b-e865-4520-88f8-079e6bdbbb2c",
   "metadata": {},
   "outputs": [
    {
     "name": "stdout",
     "output_type": "stream",
     "text": [
      "2\n",
      "1\n"
     ]
    }
   ],
   "source": [
    "import random\n",
    "\n",
    "random.seed(42)\n",
    "\n",
    "# Generate random numbers\n",
    "random_number1 = random.randint(1, 10)\n",
    "random_number2 = random.randint(1, 10)\n",
    "\n",
    "print(random_number1)  \n",
    "print(random_number2)"
   ]
  },
  {
   "cell_type": "code",
   "execution_count": null,
   "id": "d3964d47-815f-408a-a97e-1e74316fbde8",
   "metadata": {},
   "outputs": [],
   "source": []
  },
  {
   "cell_type": "markdown",
   "id": "854f4dad-711a-416f-b765-14c59a191aba",
   "metadata": {},
   "source": [
    "### Q70"
   ]
  },
  {
   "cell_type": "code",
   "execution_count": 26,
   "id": "47c1dfbf-c6e3-4eb8-925e-88b87cdc761a",
   "metadata": {},
   "outputs": [
    {
     "name": "stdout",
     "output_type": "stream",
     "text": [
      "[2, 4, 1, 3, 5]\n"
     ]
    }
   ],
   "source": [
    "import random\n",
    "\n",
    "my_list = [1, 2, 3, 4, 5]\n",
    "random.shuffle(my_list)\n",
    "print(my_list)"
   ]
  },
  {
   "cell_type": "code",
   "execution_count": null,
   "id": "84771815-35a8-4f30-86b1-3765ceab1970",
   "metadata": {},
   "outputs": [],
   "source": []
  },
  {
   "cell_type": "code",
   "execution_count": null,
   "id": "4cb71e79-1cc7-49e7-baa0-5ffd060dada9",
   "metadata": {},
   "outputs": [],
   "source": []
  },
  {
   "cell_type": "code",
   "execution_count": null,
   "id": "a556d7d8-2488-479c-ab1a-48244c168d15",
   "metadata": {},
   "outputs": [],
   "source": []
  },
  {
   "cell_type": "code",
   "execution_count": null,
   "id": "96dcf315-c5f6-43f5-9932-fc3d4f303064",
   "metadata": {},
   "outputs": [],
   "source": []
  },
  {
   "cell_type": "code",
   "execution_count": null,
   "id": "ca8546fb-0b1f-4af5-942d-033ed32dce48",
   "metadata": {},
   "outputs": [],
   "source": []
  }
 ],
 "metadata": {
  "kernelspec": {
   "display_name": "Python 3 (ipykernel)",
   "language": "python",
   "name": "python3"
  },
  "language_info": {
   "codemirror_mode": {
    "name": "ipython",
    "version": 3
   },
   "file_extension": ".py",
   "mimetype": "text/x-python",
   "name": "python",
   "nbconvert_exporter": "python",
   "pygments_lexer": "ipython3",
   "version": "3.8.10"
  }
 },
 "nbformat": 4,
 "nbformat_minor": 5
}
