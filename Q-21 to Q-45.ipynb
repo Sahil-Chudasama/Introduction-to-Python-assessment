{
 "cells": [
  {
   "cell_type": "code",
   "execution_count": 1,
   "id": "3e83138a-74e0-4744-98cb-b9af2821e96d",
   "metadata": {},
   "outputs": [],
   "source": [
    "import pandas as pd\n",
    "import numpy as np"
   ]
  },
  {
   "cell_type": "code",
   "execution_count": null,
   "id": "3fbd9390-26db-49fe-abcc-17f8e1358e97",
   "metadata": {},
   "outputs": [],
   "source": []
  },
  {
   "cell_type": "markdown",
   "id": "6f7e8b24-8b19-497f-85b2-0b4cb5714955",
   "metadata": {},
   "source": [
    "### Q-21"
   ]
  },
  {
   "cell_type": "code",
   "execution_count": 2,
   "id": "2c7cbded-c1d9-4226-bd76-84100147cb15",
   "metadata": {},
   "outputs": [],
   "source": [
    "def add_suffix(string):\n",
    "  \"Adds 'in' or 'ly' to the end of a given string based on its length and ending.\"\n",
    "\n",
    "  if len(string) >= 3 and not string.endswith('ing'):\n",
    "    return string + 'in'\n",
    "  elif len(string) >= 3 and string.endswith('ing'):\n",
    "    return string + 'ly'\n",
    "  else:\n",
    "    return string"
   ]
  },
  {
   "cell_type": "code",
   "execution_count": 3,
   "id": "ead3bc56-e929-48dc-a2cb-b2e03bda1e36",
   "metadata": {},
   "outputs": [
    {
     "name": "stdout",
     "output_type": "stream",
     "text": [
      "playin\n",
      "eatingly\n"
     ]
    }
   ],
   "source": [
    "string1 = \"play\"\n",
    "string2 = \"eating\"\n",
    "print(add_suffix(string1))\n",
    "print(add_suffix(string2))"
   ]
  },
  {
   "cell_type": "code",
   "execution_count": null,
   "id": "ca4afdd5-f9ba-4322-847f-8d55d94ade77",
   "metadata": {},
   "outputs": [],
   "source": []
  },
  {
   "cell_type": "markdown",
   "id": "0367a8fe-f95f-4193-b561-f88aaef5265f",
   "metadata": {},
   "source": [
    "### Q-22"
   ]
  },
  {
   "cell_type": "code",
   "execution_count": 4,
   "id": "7ebbce17-c906-40c8-b8a6-5ef93923f475",
   "metadata": {},
   "outputs": [],
   "source": [
    "def reverse_string(string):\n",
    "\n",
    "  if len(string) % 4 == 0:\n",
    "    return string[::-1]\n",
    "  else:\n",
    "    return string"
   ]
  },
  {
   "cell_type": "code",
   "execution_count": 6,
   "id": "bbd4bf77-7caa-435b-8869-f4d17fd828e4",
   "metadata": {},
   "outputs": [
    {
     "name": "stdout",
     "output_type": "stream",
     "text": [
      "lleh\n",
      "world\n"
     ]
    }
   ],
   "source": [
    "string1 = \"hell\"\n",
    "string2 = \"world\"\n",
    "print(reverse_string(string1))\n",
    "print(reverse_string(string2))"
   ]
  },
  {
   "cell_type": "code",
   "execution_count": null,
   "id": "1ec34c62-6b67-49ee-9f0b-120b9ee02d14",
   "metadata": {},
   "outputs": [],
   "source": []
  },
  {
   "cell_type": "markdown",
   "id": "e456539f-a639-4817-867c-dac0c8b4963a",
   "metadata": {},
   "source": [
    "### Q-23"
   ]
  },
  {
   "cell_type": "code",
   "execution_count": 8,
   "id": "c22f4559-9d63-44bb-b81a-10fb39ae26ce",
   "metadata": {},
   "outputs": [],
   "source": [
    "def get_first_and_last_two_chars(string):\n",
    "  \"Gets the first 2 and last 2 chars of a string, or an empty string if the length is less than 2.\"\n",
    "\n",
    "  if len(string) < 2:\n",
    "    return \"\"\n",
    "  else:\n",
    "    return string[:2] + string[-2:]"
   ]
  },
  {
   "cell_type": "code",
   "execution_count": 11,
   "id": "0f1a63c0-5734-4167-8fa4-6ada224d74de",
   "metadata": {},
   "outputs": [
    {
     "name": "stdout",
     "output_type": "stream",
     "text": [
      "helo\n"
     ]
    }
   ],
   "source": [
    "string1 = \"hello\"\n",
    "print(get_first_and_last_two_chars(string1))\n"
   ]
  },
  {
   "cell_type": "code",
   "execution_count": null,
   "id": "49abae7f-2446-4123-bd61-34b1e744a001",
   "metadata": {},
   "outputs": [],
   "source": []
  },
  {
   "cell_type": "markdown",
   "id": "d9bdbb84-8df5-4c22-9c48-76f93ba8c38a",
   "metadata": {},
   "source": [
    "### Q-24"
   ]
  },
  {
   "cell_type": "code",
   "execution_count": 13,
   "id": "4c2b17e3-d83d-4fbc-a2b2-8a8f2cb6eade",
   "metadata": {},
   "outputs": [],
   "source": [
    "def insert_string_in_middle(string, to_insert):\n",
    "  \"Inserts a string into the middle of another string.\"\n",
    "\n",
    "  middle_index = len(string) // 2\n",
    "  return string[:middle_index] + to_insert + string[middle_index:]"
   ]
  },
  {
   "cell_type": "code",
   "execution_count": 14,
   "id": "535d3869-596f-41d1-ac68-776761d96e59",
   "metadata": {},
   "outputs": [
    {
     "name": "stdout",
     "output_type": "stream",
     "text": [
      "he worldllo\n"
     ]
    }
   ],
   "source": [
    "string1 = \"hello\"\n",
    "string2 = \" world\"\n",
    "print(insert_string_in_middle(string1, string2))"
   ]
  },
  {
   "cell_type": "code",
   "execution_count": null,
   "id": "65ba801e-103e-4d45-b30b-27f6ee54d417",
   "metadata": {},
   "outputs": [],
   "source": []
  },
  {
   "cell_type": "markdown",
   "id": "14e03bf3-6a64-46da-b795-8b1bbc68c3f2",
   "metadata": {},
   "source": [
    "### Q-25"
   ]
  },
  {
   "cell_type": "markdown",
   "id": "c6d86a60-fde4-4805-8150-896ed9184f04",
   "metadata": {},
   "source": [
    "Lists are ordered collections of elements in Python. They can store elements of different data types, making them versatile for various tasks."
   ]
  },
  {
   "cell_type": "code",
   "execution_count": 15,
   "id": "522ab728-6135-41ba-8d38-69cd2d62a497",
   "metadata": {},
   "outputs": [
    {
     "name": "stdout",
     "output_type": "stream",
     "text": [
      "[5, 4, 3, 2, 1]\n"
     ]
    }
   ],
   "source": [
    "l1 = [1, 2, 3, 4, 5]\n",
    "reversed = l1[::-1]\n",
    "print(reversed)"
   ]
  },
  {
   "cell_type": "code",
   "execution_count": null,
   "id": "bb98a918-c9c6-4efd-9f51-0078533a67f5",
   "metadata": {},
   "outputs": [],
   "source": []
  },
  {
   "cell_type": "markdown",
   "id": "c0989bd3-d39e-4203-aff3-5d376713e348",
   "metadata": {},
   "source": [
    "### Q - 26"
   ]
  },
  {
   "cell_type": "code",
   "execution_count": 17,
   "id": "239a60e1-7b34-4f8e-b808-4753d1a7bc3c",
   "metadata": {},
   "outputs": [
    {
     "name": "stdout",
     "output_type": "stream",
     "text": [
      "5\n",
      "[1, 2, 3, 4]\n"
     ]
    }
   ],
   "source": [
    "list1 = [1, 2, 3, 4, 5]\n",
    "removed_item = list1.pop()\n",
    "print(removed_item)  \n",
    "print(list1) "
   ]
  },
  {
   "cell_type": "code",
   "execution_count": null,
   "id": "13949011-3ea6-4200-ba8c-865307b51885",
   "metadata": {},
   "outputs": [],
   "source": []
  },
  {
   "cell_type": "markdown",
   "id": "c6b943b2-aafc-45b7-b355-1ba651198bc7",
   "metadata": {},
   "source": [
    "### Q-27"
   ]
  },
  {
   "cell_type": "code",
   "execution_count": 18,
   "id": "ef7a3484-276d-4eea-abef-9c2237a7bcf4",
   "metadata": {},
   "outputs": [
    {
     "data": {
      "text/plain": [
       "25"
      ]
     },
     "execution_count": 18,
     "metadata": {},
     "output_type": "execute_result"
    }
   ],
   "source": [
    "list1 = [2, 33, 222, 14, 25]\n",
    "list1[-1]"
   ]
  },
  {
   "cell_type": "code",
   "execution_count": null,
   "id": "6f7b37c5-f1c3-4e8e-8431-79063d92848b",
   "metadata": {},
   "outputs": [],
   "source": []
  },
  {
   "cell_type": "markdown",
   "id": "3fd1f555-bd80-4d20-a633-e2813f87200a",
   "metadata": {},
   "source": [
    "### Q-28"
   ]
  },
  {
   "cell_type": "markdown",
   "id": "4b35c2a7-7684-4612-81ba-03b58197d9b1",
   "metadata": {},
   "source": [
    "append() is used to add a single element to the end of a list.\n",
    "extend() is used to add multiple elements from another iterable to the end of a list."
   ]
  },
  {
   "cell_type": "code",
   "execution_count": null,
   "id": "6913ad87-0cd6-4f22-a147-421603ec437d",
   "metadata": {},
   "outputs": [],
   "source": []
  },
  {
   "cell_type": "markdown",
   "id": "20950cbe-7e47-4de4-85d4-77075f6699ea",
   "metadata": {},
   "source": [
    "### Q-29"
   ]
  },
  {
   "cell_type": "code",
   "execution_count": 19,
   "id": "aca503db-305f-48f9-b4b9-90bc46d198c9",
   "metadata": {},
   "outputs": [],
   "source": [
    "def get_largest_smallest_sum(numbers):\n",
    "  \"Gets the largest, smallest, and sum of numbers in a list.\"\n",
    "\n",
    "  largest = numbers[0]\n",
    "  smallest = numbers[0]\n",
    "  total = 0\n",
    "\n",
    "  for num in numbers:\n",
    "    if num > largest:\n",
    "      largest = num\n",
    "    if num < smallest:\n",
    "      smallest = num\n",
    "    total += num\n",
    "\n",
    "  return largest, smallest, total"
   ]
  },
  {
   "cell_type": "code",
   "execution_count": 20,
   "id": "78037463-e05f-47dc-8045-874a692a6c64",
   "metadata": {},
   "outputs": [
    {
     "name": "stdout",
     "output_type": "stream",
     "text": [
      "Largest: 20\n",
      "Smallest: 3\n",
      "Sum: 46\n"
     ]
    }
   ],
   "source": [
    "numbers = [10, 5, 20, 3, 8]\n",
    "largest, smallest, sum = get_largest_smallest_sum(numbers)\n",
    "print(\"Largest:\", largest)\n",
    "print(\"Smallest:\", smallest)\n",
    "print(\"Sum:\", sum)"
   ]
  },
  {
   "cell_type": "code",
   "execution_count": null,
   "id": "e1cb4b46-b787-4560-9e53-e5a616e03b9a",
   "metadata": {},
   "outputs": [],
   "source": []
  },
  {
   "cell_type": "markdown",
   "id": "4fc427b8-9e7b-46a5-9566-8da2e358baed",
   "metadata": {},
   "source": [
    "### Q-30"
   ]
  },
  {
   "cell_type": "markdown",
   "id": "df97a3a3-d141-4a57-b062-b442b9b06de8",
   "metadata": {},
   "source": [
    "Use the == operator to check if two lists are exactly equal."
   ]
  },
  {
   "cell_type": "code",
   "execution_count": null,
   "id": "0ff20612-2870-4cd3-8c6e-da8abe285848",
   "metadata": {},
   "outputs": [],
   "source": []
  },
  {
   "cell_type": "markdown",
   "id": "4abc06ff-0997-4c4b-8f3f-1f804c0edb91",
   "metadata": {},
   "source": [
    "### Q-31"
   ]
  },
  {
   "cell_type": "code",
   "execution_count": 22,
   "id": "f7833c97-f035-4d52-a0d1-bc6335e828d6",
   "metadata": {},
   "outputs": [
    {
     "name": "stdout",
     "output_type": "stream",
     "text": [
      "2\n"
     ]
    }
   ],
   "source": [
    "def count_strings_with_matching_ends(strings):\n",
    "  \"Counts strings where the length is 2 or more and the first and last characters are the same.\"\n",
    "\n",
    "  count = 0\n",
    "  for string in strings:\n",
    "    if len(string) >= 2 and string[0] == string[-1]:\n",
    "      count += 1\n",
    "  return count\n",
    "\n",
    "\n",
    "strings = [\"hello\", \"world\", \"radar\", \"python\", \"pop\"]\n",
    "result = count_strings_with_matching_ends(strings)\n",
    "print(result)"
   ]
  },
  {
   "cell_type": "code",
   "execution_count": null,
   "id": "e9a0cf37-fc94-44e6-b7cf-3581ef6b9988",
   "metadata": {},
   "outputs": [],
   "source": []
  },
  {
   "cell_type": "markdown",
   "id": "0946506b-edae-4403-af7d-3e45f109a6c1",
   "metadata": {},
   "source": [
    "### Q-32"
   ]
  },
  {
   "cell_type": "code",
   "execution_count": 23,
   "id": "f287b5a1-2e3e-4ae9-9190-2b02733c990c",
   "metadata": {},
   "outputs": [
    {
     "name": "stdout",
     "output_type": "stream",
     "text": [
      "[1, 2, 3, 4, 5]\n"
     ]
    }
   ],
   "source": [
    "def remove_duplicates(lst):\n",
    "  \"Removes duplicates from a list.\"\n",
    "\n",
    "  unique_list = []\n",
    "  for item in lst:\n",
    "    if item not in unique_list:\n",
    "      unique_list.append(item)\n",
    "  return unique_list\n",
    "\n",
    "\n",
    "my_list = [1, 2, 3, 2, 4, 1, 5]\n",
    "unique_list = remove_duplicates(my_list)\n",
    "print(unique_list)"
   ]
  },
  {
   "cell_type": "code",
   "execution_count": null,
   "id": "9c9dd41b-3ef0-4039-9e11-3a74e1785550",
   "metadata": {},
   "outputs": [],
   "source": []
  },
  {
   "cell_type": "markdown",
   "id": "ddaeceef-b874-4f77-96ce-49ad0098cdfb",
   "metadata": {},
   "source": [
    "### Q-33"
   ]
  },
  {
   "cell_type": "code",
   "execution_count": 24,
   "id": "8e991515-dd17-47ce-9fff-26b3a268a409",
   "metadata": {},
   "outputs": [
    {
     "name": "stdout",
     "output_type": "stream",
     "text": [
      "True\n",
      "False\n"
     ]
    }
   ],
   "source": [
    "def is_list_empty(lst):\n",
    "  \"\"\"Checks if a list is empty.\"\"\"\n",
    "\n",
    "  if len(lst) == 0:\n",
    "    return True\n",
    "  else:\n",
    "    return False\n",
    "\n",
    "\n",
    "empty_list = []\n",
    "non_empty_list = [1, 2, 3]\n",
    "\n",
    "print(is_list_empty(empty_list)) \n",
    "print(is_list_empty(non_empty_list)) "
   ]
  },
  {
   "cell_type": "code",
   "execution_count": null,
   "id": "2ff0aa4c-364d-4c98-bc3f-753b9f73bb0d",
   "metadata": {},
   "outputs": [],
   "source": []
  },
  {
   "cell_type": "markdown",
   "id": "786905f3-f962-4f3b-ad95-c5a937b58046",
   "metadata": {},
   "source": [
    "### Q-34"
   ]
  },
  {
   "cell_type": "code",
   "execution_count": 26,
   "id": "0f7de000-cd43-4796-bd01-a951c8dc8712",
   "metadata": {},
   "outputs": [
    {
     "name": "stdout",
     "output_type": "stream",
     "text": [
      "True\n"
     ]
    }
   ],
   "source": [
    "def have_common_elements(list1, list2):\n",
    "  \"Checks if two lists have at least one common element.\"\n",
    "\n",
    "  for i in list1:\n",
    "    if i in list2:\n",
    "      return True\n",
    "  return False\n",
    "\n",
    "# Example usage:\n",
    "list1 = [1, 2, 3]\n",
    "list2 = [3, 4, 5]\n",
    "result = have_common_elements(list1, list2)\n",
    "print(result) "
   ]
  },
  {
   "cell_type": "code",
   "execution_count": null,
   "id": "76ef6073-98cc-4a2d-a3b6-38559d5972d3",
   "metadata": {},
   "outputs": [],
   "source": []
  },
  {
   "cell_type": "markdown",
   "id": "379fe746-0cb6-485d-b24b-0ebf409d25bf",
   "metadata": {},
   "source": [
    "### Q-35"
   ]
  },
  {
   "cell_type": "code",
   "execution_count": 28,
   "id": "cae9df59-3a9d-492b-9c68-5d3a291361ee",
   "metadata": {},
   "outputs": [
    {
     "name": "stdout",
     "output_type": "stream",
     "text": [
      "First 5 squares: [1, 4, 9, 16, 25]\n",
      "Last 5 squares: [676, 729, 784, 841, 900]\n"
     ]
    }
   ],
   "source": [
    "def generate_squares(start, end):\n",
    "  \"Generates a list of squares of numbers within a given range.\"\n",
    "\n",
    "  squares = [i**2 for i in range(start, end + 1)]\n",
    "  return squares\n",
    "\n",
    "def get_first_and_last_n(lst, n):\n",
    "  \"Gets the first and last n elements of a list.\"\n",
    "\n",
    "  return lst[:n], lst[-n:]\n",
    "\n",
    "\n",
    "start = 1\n",
    "end = 30\n",
    "squares = generate_squares(start, end)\n",
    "\n",
    "first_5 = get_first_and_last_n(squares, 5)\n",
    "print(\"First 5 squares:\", first_5[0])\n",
    "print(\"Last 5 squares:\", first_5[1])"
   ]
  },
  {
   "cell_type": "code",
   "execution_count": null,
   "id": "17b22cf2-0316-40e6-b80d-3b7cefd824a2",
   "metadata": {},
   "outputs": [],
   "source": []
  },
  {
   "cell_type": "markdown",
   "id": "a6c08a6a-866e-4b14-9c75-d27e396bfe4e",
   "metadata": {},
   "source": [
    "### Q-36"
   ]
  },
  {
   "cell_type": "code",
   "execution_count": 29,
   "id": "da953bb0-682b-48f2-8eb8-1069da0b2648",
   "metadata": {},
   "outputs": [
    {
     "name": "stdout",
     "output_type": "stream",
     "text": [
      "[1, 2, 3, 4, 5]\n"
     ]
    }
   ],
   "source": [
    "def remove_duplicates(lst):\n",
    "  \"Removes duplicates from a list.\"\n",
    "\n",
    "  unique_list = []\n",
    "  for item in lst:\n",
    "    if item not in unique_list:\n",
    "      unique_list.append(item)\n",
    "  return unique_list\n",
    "\n",
    "\n",
    "my_list = [1, 2, 3, 2, 4, 1, 5]\n",
    "unique_list = remove_duplicates(my_list)\n",
    "print(unique_list)"
   ]
  },
  {
   "cell_type": "code",
   "execution_count": null,
   "id": "6e8ca5a2-171f-4c37-911e-352bcd06cb9b",
   "metadata": {},
   "outputs": [],
   "source": []
  },
  {
   "cell_type": "markdown",
   "id": "4c6d218a-f9f8-423c-ac08-d83d1541ac8d",
   "metadata": {},
   "source": [
    "### Q-37"
   ]
  },
  {
   "cell_type": "code",
   "execution_count": 31,
   "id": "77fcff69-5fa7-4e53-b8c1-a0eef89d84a2",
   "metadata": {},
   "outputs": [
    {
     "name": "stdout",
     "output_type": "stream",
     "text": [
      "sahil\n"
     ]
    }
   ],
   "source": [
    "def list_to_string(char_list):\n",
    "  \"Converts a list of characters into a string.\"\n",
    "\n",
    "  string = ''.join(char_list)\n",
    "  return string\n",
    "\n",
    "\n",
    "char_list = ['s', 'a', 'h', 'i', 'l']\n",
    "string = list_to_string(char_list)\n",
    "print(string) "
   ]
  },
  {
   "cell_type": "code",
   "execution_count": null,
   "id": "02d50724-f773-4e72-859d-b82349f56d9c",
   "metadata": {},
   "outputs": [],
   "source": []
  },
  {
   "cell_type": "markdown",
   "id": "686b723d-39b3-452d-ac75-49c9252bf53a",
   "metadata": {},
   "source": [
    "### Q-38"
   ]
  },
  {
   "cell_type": "code",
   "execution_count": 34,
   "id": "6e1e032d-8d18-4c24-a210-635ffc41539a",
   "metadata": {},
   "outputs": [
    {
     "name": "stdout",
     "output_type": "stream",
     "text": [
      "1\n"
     ]
    }
   ],
   "source": [
    "import random\n",
    "\n",
    "def select_random_item(lst):\n",
    "  \"Selects a random item from a list.\"\n",
    "\n",
    "  if not lst:\n",
    "    return None\n",
    "  else:\n",
    "    random_index = random.randint(0, len(lst) - 1)\n",
    "    return lst[random_index]\n",
    "\n",
    "\n",
    "my_list = [1, 2, 3, 4, 5]\n",
    "random_item = select_random_item(my_list)\n",
    "print(random_item)"
   ]
  },
  {
   "cell_type": "code",
   "execution_count": null,
   "id": "47814467-9232-4f41-b1ee-5f7fd76fe18e",
   "metadata": {},
   "outputs": [],
   "source": []
  },
  {
   "cell_type": "markdown",
   "id": "84e34442-63dc-43d8-a5da-e3880d329fda",
   "metadata": {},
   "source": [
    "### Q-39"
   ]
  },
  {
   "cell_type": "code",
   "execution_count": 35,
   "id": "d9616263-0686-4e47-8277-8fedf909ac05",
   "metadata": {},
   "outputs": [
    {
     "name": "stdout",
     "output_type": "stream",
     "text": [
      "Second smallest number: 5\n"
     ]
    }
   ],
   "source": [
    "def find_second_smallest(numbers):\n",
    "  \"Finds the second smallest number in a list.\"\n",
    "\n",
    "  if len(numbers) < 2:\n",
    "    return None  # Handle empty or single-element lists\n",
    "\n",
    "  smallest = numbers[0]\n",
    "  second_smallest = numbers[1]\n",
    "\n",
    "  if smallest > second_smallest:\n",
    "    smallest, second_smallest = second_smallest, smallest\n",
    "\n",
    "  for num in numbers[2:]:\n",
    "    if num < smallest:\n",
    "      second_smallest = smallest\n",
    "      smallest = num\n",
    "    elif num < second_smallest:\n",
    "      second_smallest = num\n",
    "\n",
    "  return second_smallest\n",
    "\n",
    "\n",
    "numbers = [10, 5, 20, 3, 8]\n",
    "second_smallest_num = find_second_smallest(numbers)\n",
    "print(\"Second smallest number:\", second_smallest_num)"
   ]
  },
  {
   "cell_type": "code",
   "execution_count": null,
   "id": "21128653-e4a8-428f-a1b1-c9b150077567",
   "metadata": {},
   "outputs": [],
   "source": []
  },
  {
   "cell_type": "markdown",
   "id": "aa1894c6-dc01-45f5-b0ef-1c040812f35e",
   "metadata": {},
   "source": [
    "### Q-40"
   ]
  },
  {
   "cell_type": "code",
   "execution_count": 36,
   "id": "9fcac9f9-3d47-404a-8e63-e7e9014e986c",
   "metadata": {},
   "outputs": [
    {
     "name": "stdout",
     "output_type": "stream",
     "text": [
      "[1, 2, 3, 4, 5]\n"
     ]
    }
   ],
   "source": [
    "def get_unique_values(lst):\n",
    "  \"Gets unique values from a list.\"\n",
    "\n",
    "  unique_list = []\n",
    "  for item in lst:\n",
    "    if item not in unique_list:\n",
    "      unique_list.append(item)\n",
    "  return unique_list\n",
    "\n",
    "# Example usage:\n",
    "my_list = [1, 2, 3, 2, 4, 1, 5]\n",
    "unique_list = get_unique_values(my_list)\n",
    "print(unique_list)"
   ]
  },
  {
   "cell_type": "code",
   "execution_count": null,
   "id": "2e6fce28-cf2b-4c1c-954f-2e0cc6a73823",
   "metadata": {},
   "outputs": [],
   "source": []
  },
  {
   "cell_type": "markdown",
   "id": "9126037c-fd9c-433e-abcd-d7040c4d717d",
   "metadata": {},
   "source": [
    "### Q-41"
   ]
  },
  {
   "cell_type": "code",
   "execution_count": 37,
   "id": "915c7a65-c730-4c0d-ba6a-1b8707030e22",
   "metadata": {},
   "outputs": [
    {
     "name": "stdout",
     "output_type": "stream",
     "text": [
      "True\n"
     ]
    }
   ],
   "source": [
    "def is_sublist(main_list, sublist):\n",
    "    \"Checks if a sublist is present in a main list.\"\n",
    "\n",
    "    n = len(sublist)\n",
    "    for i in range(len(main_list)):\n",
    "        if main_list[i:i+n] == sublist:\n",
    "            return True\n",
    "    return False\n",
    "\n",
    "\n",
    "main_list = [1, 2, 3, 4, 5, 6, 7, 8, 9]\n",
    "sublist1 = [3, 4, 5]\n",
    "\n",
    "print(is_sublist(main_list, sublist1))"
   ]
  },
  {
   "cell_type": "code",
   "execution_count": null,
   "id": "3db90185-dd1e-43a9-bdda-e92d20eb84a4",
   "metadata": {},
   "outputs": [],
   "source": []
  },
  {
   "cell_type": "markdown",
   "id": "01949d4d-e274-40a2-b9ad-46a22c759477",
   "metadata": {},
   "source": [
    "### Q-42"
   ]
  },
  {
   "cell_type": "code",
   "execution_count": 38,
   "id": "fc1bb030-07c2-4d03-8dfc-280124e5aa30",
   "metadata": {},
   "outputs": [
    {
     "name": "stdout",
     "output_type": "stream",
     "text": [
      "10\n",
      "20\n",
      "30\n",
      "40\n"
     ]
    }
   ],
   "source": [
    "def split_list_into_variables(lst):\n",
    "  \"Splits a list into individual variables.\"\n",
    "\n",
    "  if len(lst) > 0:\n",
    "    var_names = [\"var{}\".format(i) for i in range(1, len(lst) + 1)]\n",
    "    for var_name, value in zip(var_names, lst):\n",
    "      globals()[var_name] = value\n",
    "  else:\n",
    "    print(\"The list is empty.\")\n",
    "\n",
    "\n",
    "my_list = [10, 20, 30, 40]\n",
    "split_list_into_variables(my_list)\n",
    "\n",
    "print(var1)  \n",
    "print(var2) \n",
    "print(var3)  \n",
    "print(var4)"
   ]
  },
  {
   "cell_type": "code",
   "execution_count": null,
   "id": "03399e3f-46e1-44b1-9457-5f174d1864ec",
   "metadata": {},
   "outputs": [],
   "source": []
  },
  {
   "cell_type": "markdown",
   "id": "278f7701-17b8-4ac5-8015-b4ad77f16691",
   "metadata": {},
   "source": [
    "### Q-43"
   ]
  },
  {
   "cell_type": "markdown",
   "id": "17035d3a-3cdf-4465-b6d5-142d9f835f72",
   "metadata": {},
   "source": [
    "Lists are mutable, allowing you to add, remove, or modify elements.\n",
    "Tuples are immutable, providing a way to store data that should not be changed."
   ]
  },
  {
   "cell_type": "code",
   "execution_count": null,
   "id": "74c3ea16-a3e7-49ff-8ee0-3edb888a43e0",
   "metadata": {},
   "outputs": [],
   "source": []
  },
  {
   "cell_type": "markdown",
   "id": "bf7e905b-ee82-4b5b-9c4b-0771180f1c6d",
   "metadata": {},
   "source": [
    "### Q-44"
   ]
  },
  {
   "cell_type": "code",
   "execution_count": 39,
   "id": "6e2c83a2-729f-4fba-add4-d09cf8b175dc",
   "metadata": {},
   "outputs": [
    {
     "name": "stdout",
     "output_type": "stream",
     "text": [
      "(10, 'hello', 3.14, True, [1, 2, 3])\n"
     ]
    }
   ],
   "source": [
    "t = (10, \"hello\", 3.14, True, [1, 2, 3])\n",
    "\n",
    "print(t)"
   ]
  },
  {
   "cell_type": "code",
   "execution_count": null,
   "id": "4ca2b997-db40-49ee-8262-e922ae1dbd74",
   "metadata": {},
   "outputs": [],
   "source": []
  },
  {
   "cell_type": "markdown",
   "id": "cde8e747-16aa-468c-b9b6-73708f02b3e8",
   "metadata": {},
   "source": [
    "### Q-45"
   ]
  },
  {
   "cell_type": "code",
   "execution_count": 43,
   "id": "ea2c1ec9-9c67-41a6-a29e-30bdf0ae4a84",
   "metadata": {},
   "outputs": [
    {
     "name": "stdout",
     "output_type": "stream",
     "text": [
      "[[1, 4, 7], [2, 5, 8], [3, 6, 9]]\n"
     ]
    }
   ],
   "source": [
    "def unzip_list_of_tuples(tuples):\n",
    "  \"Unzips a list of tuples into individual lists.\"\n",
    "\n",
    "  unzipped_lists = []\n",
    "  for i in range(len(tuples[0])):\n",
    "    unzipped_lists.append([])\n",
    "    for tuple in tuples:\n",
    "      unzipped_lists[i].append(tuple[i])\n",
    "  return unzipped_lists\n",
    "\n",
    "\n",
    "tuples = [(1, 2, 3), (4, 5, 6), (7, 8, 9)]\n",
    "unzipped_lists = unzip_list_of_tuples(tuples)\n",
    "print(unzipped_lists) "
   ]
  },
  {
   "cell_type": "code",
   "execution_count": null,
   "id": "d06be737-3737-4264-9a3b-c5efd1194246",
   "metadata": {},
   "outputs": [],
   "source": []
  },
  {
   "cell_type": "code",
   "execution_count": null,
   "id": "156a1eb8-ec20-431b-a424-9303cf4340bf",
   "metadata": {},
   "outputs": [],
   "source": []
  },
  {
   "cell_type": "code",
   "execution_count": null,
   "id": "ecdd1097-c3db-4182-9a51-75af65949267",
   "metadata": {},
   "outputs": [],
   "source": []
  }
 ],
 "metadata": {
  "kernelspec": {
   "display_name": "Python 3 (ipykernel)",
   "language": "python",
   "name": "python3"
  },
  "language_info": {
   "codemirror_mode": {
    "name": "ipython",
    "version": 3
   },
   "file_extension": ".py",
   "mimetype": "text/x-python",
   "name": "python",
   "nbconvert_exporter": "python",
   "pygments_lexer": "ipython3",
   "version": "3.8.10"
  }
 },
 "nbformat": 4,
 "nbformat_minor": 5
}
