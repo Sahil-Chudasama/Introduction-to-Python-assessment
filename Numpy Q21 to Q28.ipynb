{
 "cells": [
  {
   "cell_type": "code",
   "execution_count": 2,
   "id": "3f50dabf-0fe2-49f7-8505-dcfe51bda3c1",
   "metadata": {},
   "outputs": [],
   "source": [
    "import numpy as np"
   ]
  },
  {
   "cell_type": "code",
   "execution_count": null,
   "id": "2ede4338-c23d-492c-bfcd-4aee76e137b2",
   "metadata": {},
   "outputs": [],
   "source": []
  },
  {
   "cell_type": "markdown",
   "id": "7d83105a-5337-43d5-b63a-d313c61b03f3",
   "metadata": {},
   "source": [
    "## Q21"
   ]
  },
  {
   "cell_type": "code",
   "execution_count": 4,
   "id": "11db60a2-ce0e-41fb-a961-30e0854a84e9",
   "metadata": {},
   "outputs": [
    {
     "name": "stdout",
     "output_type": "stream",
     "text": [
      "Time taken for np.dot(): 2.276863300000059\n",
      "Time taken for @: 2.0969662999999628\n",
      "Results from both methods are identical.\n"
     ]
    }
   ],
   "source": [
    "import timeit\n",
    "matrix_size = 1000\n",
    "\n",
    "# Create random matrices\n",
    "matrix_a = np.random.rand(matrix_size, matrix_size)\n",
    "matrix_b = np.random.rand(matrix_size, matrix_size)\n",
    "\n",
    "# Measure time for np.dot()\n",
    "time_dot = timeit.timeit(lambda: np.dot(matrix_a, matrix_b), number=100)\n",
    "\n",
    "# Measure time for @\n",
    "time_at = timeit.timeit(lambda: matrix_a @ matrix_b, number=100)\n",
    "\n",
    "# Print results\n",
    "print(\"Time taken for np.dot():\", time_dot)\n",
    "print(\"Time taken for @:\", time_at)\n",
    "\n",
    "# Verify results\n",
    "result_dot = np.dot(matrix_a, matrix_b)\n",
    "result_at = matrix_a @ matrix_b\n",
    "\n",
    "if np.allclose(result_dot, result_at):\n",
    "  print(\"Results from both methods are identical.\")\n",
    "else:\n",
    "    print(\"Results may differ due to rounding errors.\")"
   ]
  },
  {
   "cell_type": "code",
   "execution_count": null,
   "id": "bb160a17-920e-4ccb-b39e-29225b1d105f",
   "metadata": {},
   "outputs": [],
   "source": []
  },
  {
   "cell_type": "markdown",
   "id": "b64b2261-d82a-4a0b-b4b2-f383dcbdd8f0",
   "metadata": {},
   "source": [
    "# Q22"
   ]
  },
  {
   "cell_type": "code",
   "execution_count": null,
   "id": "35da52eb-b364-498e-a4dd-9bf286901811",
   "metadata": {},
   "outputs": [],
   "source": []
  },
  {
   "cell_type": "markdown",
   "id": "0160d7b1-01ae-41e6-bf21-bee47622b062",
   "metadata": {},
   "source": [
    "# Q23"
   ]
  },
  {
   "cell_type": "code",
   "execution_count": 9,
   "id": "f8bd0b0a-9681-4647-9516-e66e9355ae48",
   "metadata": {},
   "outputs": [
    {
     "name": "stdout",
     "output_type": "stream",
     "text": [
      "[[0.10446895 0.19813687 0.00667821 0.23299571]\n",
      " [0.70600179 0.04310791 0.11559863 0.73314431]\n",
      " [0.89907533 0.8374959  0.69199286 0.84861195]\n",
      " [0.71789846 0.87601508 0.01014837 0.18211911]]\n"
     ]
    }
   ],
   "source": [
    "# Generate a 2D array of random floats between 0 and 1\n",
    "random_array = np.random.rand(4, 4)\n",
    "\n",
    "# Create a Boolean mask for values less than 0.5\n",
    "mask = random_array < 0.5\n",
    "\n",
    "# Replace values less than 0.5 with their squares\n",
    "random_array[mask] = random_array[mask]**2\n",
    "\n",
    "print(random_array)"
   ]
  },
  {
   "cell_type": "code",
   "execution_count": null,
   "id": "6cf97709-a931-4e9b-a2fe-fdc533c852da",
   "metadata": {},
   "outputs": [],
   "source": []
  },
  {
   "cell_type": "markdown",
   "id": "aa3c289e-96c5-4b0f-a369-b15743a97b9f",
   "metadata": {},
   "source": [
    "# Q24"
   ]
  },
  {
   "cell_type": "code",
   "execution_count": 10,
   "id": "92cd4857-22bd-436b-a190-5932c08fc7bf",
   "metadata": {},
   "outputs": [
    {
     "name": "stdout",
     "output_type": "stream",
     "text": [
      "Original array:\n",
      "[[ 0  1  2  3  4]\n",
      " [ 5  6  7  8  9]\n",
      " [ 0  0  0  0  0]\n",
      " [15 16 17 18 19]\n",
      " [20 21 22 23 24]]\n",
      "\n",
      "Diagonal elements:\n",
      "[ 0  6  0 18 24]\n",
      "\n",
      "Array with middle row replaced with zeros:\n",
      "[[ 0  1  2  3  4]\n",
      " [ 5  6  7  8  9]\n",
      " [ 0  0  0  0  0]\n",
      " [15 16 17 18 19]\n",
      " [20 21 22 23 24]]\n",
      "\n",
      "Array flipped vertically:\n",
      "[[20 21 22 23 24]\n",
      " [15 16 17 18 19]\n",
      " [ 0  0  0  0  0]\n",
      " [ 5  6  7  8  9]\n",
      " [ 0  1  2  3  4]]\n",
      "\n",
      "Array flipped horizontally:\n",
      "[[ 4  3  2  1  0]\n",
      " [ 9  8  7  6  5]\n",
      " [ 0  0  0  0  0]\n",
      " [19 18 17 16 15]\n",
      " [24 23 22 21 20]]\n"
     ]
    }
   ],
   "source": [
    "array = np.arange(25).reshape(5, 5)\n",
    "\n",
    "# Extract the diagonal elements\n",
    "diagonal = array.diagonal()\n",
    "\n",
    "# Replace the elements of the middle row with zeros\n",
    "array[2, :] = 0\n",
    "\n",
    "# Flip the array vertically\n",
    "array_flipped_vertically = np.flipud(array)\n",
    "\n",
    "# Flip the array horizontally\n",
    "array_flipped_horizontally = np.fliplr(array)\n",
    "\n",
    "print(\"Original array:\")\n",
    "print(array)\n",
    "\n",
    "print(\"\\nDiagonal elements:\")\n",
    "print(diagonal)\n",
    "\n",
    "print(\"\\nArray with middle row replaced with zeros:\")\n",
    "print(array)\n",
    "\n",
    "print(\"\\nArray flipped vertically:\")\n",
    "print(array_flipped_vertically)\n",
    "\n",
    "print(\"\\nArray flipped horizontally:\")\n",
    "print(array_flipped_horizontally)"
   ]
  },
  {
   "cell_type": "code",
   "execution_count": null,
   "id": "b0aec1b4-3dbf-4c60-af8b-e881b56bd156",
   "metadata": {},
   "outputs": [],
   "source": []
  },
  {
   "cell_type": "markdown",
   "id": "4bc838d6-c1aa-4815-a705-d3167dd366d6",
   "metadata": {},
   "source": [
    "# Q25"
   ]
  },
  {
   "cell_type": "code",
   "execution_count": null,
   "id": "eeb260c3-39d0-4c3e-a040-aab446a9d7e0",
   "metadata": {},
   "outputs": [],
   "source": []
  },
  {
   "cell_type": "code",
   "execution_count": null,
   "id": "0ea1c6f6-d911-459c-b1d1-1229ae4be452",
   "metadata": {},
   "outputs": [],
   "source": []
  },
  {
   "cell_type": "markdown",
   "id": "18143cd2-9024-46a0-aa26-a1831bebb12c",
   "metadata": {},
   "source": [
    "# Q26"
   ]
  },
  {
   "cell_type": "code",
   "execution_count": 11,
   "id": "06da6380-238f-4978-8c93-45d75f01b280",
   "metadata": {},
   "outputs": [
    {
     "name": "stdout",
     "output_type": "stream",
     "text": [
      "Original shape: (10, 20)\n",
      "Reshaped to (20, 10): (20, 10)\n",
      "Reshaped to (5, 40): (5, 40)\n"
     ]
    }
   ],
   "source": [
    "array = np.arange(200).reshape(10, 20)\n",
    "\n",
    "# Reshape to (20, 10)\n",
    "array_20x10 = array.reshape(20, 10)\n",
    "\n",
    "# Reshape to (5, 40)\n",
    "array_5x40 = array.reshape(5, 40)\n",
    "\n",
    "print(\"Original shape:\", array.shape)\n",
    "print(\"Reshaped to (20, 10):\", array_20x10.shape)\n",
    "print(\"Reshaped to (5, 40):\", array_5x40.shape)"
   ]
  },
  {
   "cell_type": "markdown",
   "id": "bc5568c3-e3d6-4777-8cb5-b854cdab635f",
   "metadata": {},
   "source": [
    "the shape of the array changes while the size and dimensionality remain constant."
   ]
  },
  {
   "cell_type": "markdown",
   "id": "3b011140-4414-4524-a727-41ba6a51a938",
   "metadata": {},
   "source": [
    "# Q27"
   ]
  },
  {
   "cell_type": "code",
   "execution_count": 12,
   "id": "d925e3fa-8de3-4ba6-954a-5ee5b4821b3c",
   "metadata": {},
   "outputs": [
    {
     "name": "stdout",
     "output_type": "stream",
     "text": [
      "Original shape: (1000, 1000)\n",
      "Reshaped shape: (100, 10000)\n",
      "Flattened shape: (1000000,)\n",
      "Elements remain the same after reshaping and flattening.\n"
     ]
    }
   ],
   "source": [
    "large_array = np.random.randint(0, 1000, (1000, 1000))\n",
    "\n",
    "# Print the original shape\n",
    "print(\"Original shape:\", large_array.shape)\n",
    "\n",
    "# Reshape to (100, 10000)\n",
    "reshaped_array = large_array.reshape(100, 10000)\n",
    "print(\"Reshaped shape:\", reshaped_array.shape)\n",
    "\n",
    "# Flatten the array\n",
    "flattened_array = large_array.ravel()\n",
    "print(\"Flattened shape:\", flattened_array.shape)\n",
    "\n",
    "# Verify that the elements remain the same\n",
    "if np.array_equal(large_array.flatten(), flattened_array):\n",
    "    print(\"Elements remain the same after reshaping and flattening.\")\n",
    "else:\n",
    "    print(\"Elements have changed.\")"
   ]
  },
  {
   "cell_type": "code",
   "execution_count": null,
   "id": "9820d1c5-652c-43cf-a6f1-6cce2a11f9be",
   "metadata": {},
   "outputs": [],
   "source": []
  },
  {
   "cell_type": "markdown",
   "id": "ed7eb7f3-b068-4b0f-a3bc-a161482a9e2b",
   "metadata": {},
   "source": [
    "# Q28"
   ]
  },
  {
   "cell_type": "code",
   "execution_count": 15,
   "id": "636a291f-3fb9-41fb-9277-42a245c09ba3",
   "metadata": {},
   "outputs": [
    {
     "name": "stdout",
     "output_type": "stream",
     "text": [
      "Original matrix:\n",
      "[[8 6 6 4 3 8]\n",
      " [0 2 7 6 3 3]\n",
      " [0 0 6 9 4 7]\n",
      " [0 0 0 9 4 7]\n",
      " [0 0 0 0 7 9]\n",
      " [0 0 0 0 0 2]]\n",
      "\n",
      "Upper triangular part:\n",
      "[[8 6 6 4 3 8]\n",
      " [0 2 7 6 3 3]\n",
      " [0 0 6 9 4 7]\n",
      " [0 0 0 9 4 7]\n",
      " [0 0 0 0 7 9]\n",
      " [0 0 0 0 0 2]]\n"
     ]
    }
   ],
   "source": [
    "matrix = np.random.randint(0, 10, (6, 6))\n",
    "\n",
    "# Extract the upper triangular part\n",
    "upper_triangular = np.triu(matrix)\n",
    "\n",
    "# Set the lower triangular part to zero\n",
    "matrix[np.tril_indices(6, k=-1)] = 0\n",
    "\n",
    "\n",
    "print(\"Original matrix:\")\n",
    "print(matrix)\n",
    "\n",
    "print(\"\\nUpper triangular part:\")\n",
    "print(upper_triangular)"
   ]
  },
  {
   "cell_type": "code",
   "execution_count": null,
   "id": "8b54ef45-7b2d-4d36-a61a-5cc7d5a654bd",
   "metadata": {},
   "outputs": [],
   "source": []
  },
  {
   "cell_type": "code",
   "execution_count": null,
   "id": "b4cc66e7-aa70-406d-a4e3-8e8bb7df70fe",
   "metadata": {},
   "outputs": [],
   "source": []
  },
  {
   "cell_type": "code",
   "execution_count": null,
   "id": "334c5e03-ff76-4226-8c1f-e119c3ce7244",
   "metadata": {},
   "outputs": [],
   "source": []
  },
  {
   "cell_type": "code",
   "execution_count": null,
   "id": "451e5f48-7eac-4a8e-a100-b0be96481f8d",
   "metadata": {},
   "outputs": [],
   "source": []
  },
  {
   "cell_type": "code",
   "execution_count": null,
   "id": "b8b6e141-2438-49ff-9025-9597ef8cf49d",
   "metadata": {},
   "outputs": [],
   "source": []
  },
  {
   "cell_type": "code",
   "execution_count": null,
   "id": "641c6268-1437-46c6-ada5-144902f28538",
   "metadata": {},
   "outputs": [],
   "source": []
  },
  {
   "cell_type": "code",
   "execution_count": null,
   "id": "07de7bcd-8394-4db5-9644-44165e667412",
   "metadata": {},
   "outputs": [],
   "source": []
  },
  {
   "cell_type": "code",
   "execution_count": null,
   "id": "53ab733a-d4b9-41e1-8a29-333acbd9768a",
   "metadata": {},
   "outputs": [],
   "source": []
  },
  {
   "cell_type": "code",
   "execution_count": null,
   "id": "30d76639-a5ce-4ef6-89f8-2cfc498e1af9",
   "metadata": {},
   "outputs": [],
   "source": []
  },
  {
   "cell_type": "code",
   "execution_count": null,
   "id": "4f010608-2460-4317-a69b-9eaebc20c918",
   "metadata": {},
   "outputs": [],
   "source": []
  },
  {
   "cell_type": "code",
   "execution_count": null,
   "id": "d8731004-b552-44a6-b184-2637a1d9bbc0",
   "metadata": {},
   "outputs": [],
   "source": []
  },
  {
   "cell_type": "code",
   "execution_count": null,
   "id": "a712b21f-7a15-449a-888e-f525ff9cb4e7",
   "metadata": {},
   "outputs": [],
   "source": []
  },
  {
   "cell_type": "code",
   "execution_count": null,
   "id": "92e0a88f-896a-447d-9f46-5d38f9e1fc61",
   "metadata": {},
   "outputs": [],
   "source": []
  },
  {
   "cell_type": "code",
   "execution_count": null,
   "id": "0c5373a3-5861-4cc1-b5f4-aaf29e65ec24",
   "metadata": {},
   "outputs": [],
   "source": []
  }
 ],
 "metadata": {
  "kernelspec": {
   "display_name": "Python 3 (ipykernel)",
   "language": "python",
   "name": "python3"
  },
  "language_info": {
   "codemirror_mode": {
    "name": "ipython",
    "version": 3
   },
   "file_extension": ".py",
   "mimetype": "text/x-python",
   "name": "python",
   "nbconvert_exporter": "python",
   "pygments_lexer": "ipython3",
   "version": "3.8.10"
  }
 },
 "nbformat": 4,
 "nbformat_minor": 5
}
