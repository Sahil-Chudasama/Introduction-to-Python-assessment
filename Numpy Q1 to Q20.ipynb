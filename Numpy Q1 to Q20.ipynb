{
 "cells": [
  {
   "cell_type": "code",
   "execution_count": 1,
   "id": "14969ecf-2428-4186-923a-f2461a97a5a7",
   "metadata": {},
   "outputs": [],
   "source": [
    "import numpy as np"
   ]
  },
  {
   "cell_type": "code",
   "execution_count": null,
   "id": "f3b3b198-3d60-4ec7-9cd7-e88e9bd5fd28",
   "metadata": {},
   "outputs": [],
   "source": []
  },
  {
   "cell_type": "markdown",
   "id": "9bc027c6-c02f-4244-afc0-5b0126078310",
   "metadata": {},
   "source": [
    "### Q1"
   ]
  },
  {
   "cell_type": "code",
   "execution_count": 40,
   "id": "eb0a22cf-7b0f-413d-be39-a9fb9e21ff1f",
   "metadata": {},
   "outputs": [
    {
     "name": "stdout",
     "output_type": "stream",
     "text": [
      "[[1. 0. 0.]\n",
      " [0. 1. 0.]\n",
      " [0. 0. 1.]]\n"
     ]
    }
   ],
   "source": [
    "matrix = np.identity(3, dtype=float)\n",
    "print(matrix)"
   ]
  },
  {
   "cell_type": "code",
   "execution_count": null,
   "id": "15e098f5-3a8b-40d5-b2ec-98b5f181b0e9",
   "metadata": {},
   "outputs": [],
   "source": []
  },
  {
   "cell_type": "markdown",
   "id": "fc1657bb-747f-41fe-8b74-70b435e8df7b",
   "metadata": {},
   "source": [
    "### Q2"
   ]
  },
  {
   "cell_type": "code",
   "execution_count": 41,
   "id": "d4256091-748b-448e-9bb8-7f45a8bf2407",
   "metadata": {},
   "outputs": [
    {
     "name": "stdout",
     "output_type": "stream",
     "text": [
      "[0.69703814 0.41834459 0.52438177 0.93388426 0.95763445 0.25255486\n",
      " 0.19076544 0.05345448 0.63137126 0.3805625 ]\n"
     ]
    }
   ],
   "source": [
    "array = np.random.rand(10)\n",
    "\n",
    "print(array)"
   ]
  },
  {
   "cell_type": "code",
   "execution_count": null,
   "id": "3837d00b-5608-4ad8-be2a-81de172bc7b3",
   "metadata": {},
   "outputs": [],
   "source": []
  },
  {
   "cell_type": "markdown",
   "id": "97d9e602-1282-45ab-a718-f23771a37c03",
   "metadata": {},
   "source": [
    "### Q3"
   ]
  },
  {
   "cell_type": "code",
   "execution_count": 42,
   "id": "03249974-5545-4baa-aedd-fd7b618df41f",
   "metadata": {},
   "outputs": [
    {
     "name": "stdout",
     "output_type": "stream",
     "text": [
      "[[98 48 51 75]\n",
      " [19 55  1 45]\n",
      " [64 25 30 29]]\n"
     ]
    }
   ],
   "source": [
    "random_array = np.random.randint(0, 100, (3, 4))\n",
    "\n",
    "print(random_array)"
   ]
  },
  {
   "cell_type": "code",
   "execution_count": null,
   "id": "fd8d9ab5-8a2e-4e0f-a3fa-cb255067381a",
   "metadata": {},
   "outputs": [],
   "source": []
  },
  {
   "cell_type": "markdown",
   "id": "97819605-8388-4e49-b6e5-828079488344",
   "metadata": {},
   "source": [
    "### Q4"
   ]
  },
  {
   "cell_type": "code",
   "execution_count": 43,
   "id": "35bafd2f-40ed-4baf-b641-98b555bb082d",
   "metadata": {},
   "outputs": [
    {
     "name": "stdout",
     "output_type": "stream",
     "text": [
      "[ 0.  1.  4.  9. 16.]\n"
     ]
    }
   ],
   "source": [
    "def my_custom_function(x):\n",
    "  \"\"\"\n",
    "  A custom function that calculates the square of the input value.\n",
    "  \"\"\"\n",
    "  return x**2\n",
    "\n",
    "\n",
    "custom_array = np.fromfunction(my_custom_function, (5,))\n",
    "\n",
    "print(custom_array)"
   ]
  },
  {
   "cell_type": "code",
   "execution_count": null,
   "id": "04817fca-048e-49c2-9f64-ab15e5563029",
   "metadata": {},
   "outputs": [],
   "source": []
  },
  {
   "cell_type": "markdown",
   "id": "054d7785-1405-4156-a0a2-0e71c33005a7",
   "metadata": {},
   "source": [
    "### Q5"
   ]
  },
  {
   "cell_type": "code",
   "execution_count": 44,
   "id": "3b550c4c-b2b5-4bf1-bf99-f4837ff46342",
   "metadata": {},
   "outputs": [
    {
     "name": "stdout",
     "output_type": "stream",
     "text": [
      "[[1 2 3]\n",
      " [4 5 6]\n",
      " [7 8 9]]\n"
     ]
    }
   ],
   "source": [
    "one_d_array = np.array([1, 2, 3, 4, 5, 6, 7, 8, 9])\n",
    "\n",
    "two_d_array = one_d_array.reshape(3, 3)\n",
    "\n",
    "print(two_d_array)"
   ]
  },
  {
   "cell_type": "code",
   "execution_count": null,
   "id": "46edd523-4da1-4937-b202-0571e29764de",
   "metadata": {},
   "outputs": [],
   "source": []
  },
  {
   "cell_type": "markdown",
   "id": "265a9f26-2df5-4eed-98b5-7b8638433cd3",
   "metadata": {},
   "source": [
    "### Q6"
   ]
  },
  {
   "cell_type": "code",
   "execution_count": 45,
   "id": "16601d57-7523-493e-b277-ef334eb88b01",
   "metadata": {},
   "outputs": [
    {
     "name": "stdout",
     "output_type": "stream",
     "text": [
      "[[1 1 1]\n",
      " [1 1 1]\n",
      " [1 1 1]]\n"
     ]
    }
   ],
   "source": [
    "ones_array = np.ones((3, 3), dtype= int)\n",
    "print(ones_array)"
   ]
  },
  {
   "cell_type": "code",
   "execution_count": null,
   "id": "c837a61d-6bae-494c-8f86-b8bf67a31d63",
   "metadata": {},
   "outputs": [],
   "source": []
  },
  {
   "cell_type": "markdown",
   "id": "c1e97862-85ad-4f85-bb45-68f43f532ae4",
   "metadata": {},
   "source": [
    "### Q7"
   ]
  },
  {
   "cell_type": "code",
   "execution_count": 46,
   "id": "ca432077-e17d-492e-84d0-a8c73ab98602",
   "metadata": {},
   "outputs": [
    {
     "name": "stdout",
     "output_type": "stream",
     "text": [
      "[2 4]\n"
     ]
    }
   ],
   "source": [
    "a = np.array([1, 2, 3, 2, 3, 4, 3, 4, 5, 6])\n",
    "b = np.array([7, 2, 10, 2, 7, 4, 9, 4, 9, 8])\n",
    "\n",
    "common_elements = np.intersect1d(a, b)\n",
    "print(common_elements)"
   ]
  },
  {
   "cell_type": "code",
   "execution_count": null,
   "id": "360ea906-fb17-4377-aa5d-8e6bc0e887a8",
   "metadata": {},
   "outputs": [],
   "source": []
  },
  {
   "cell_type": "markdown",
   "id": "735c6281-d79c-483f-b27a-fcc18aa98088",
   "metadata": {},
   "source": [
    "### Q8"
   ]
  },
  {
   "cell_type": "code",
   "execution_count": 47,
   "id": "79474b38-34aa-4359-9684-9b339cc98056",
   "metadata": {},
   "outputs": [
    {
     "name": "stdout",
     "output_type": "stream",
     "text": [
      "[1 2 3 4]\n"
     ]
    }
   ],
   "source": [
    "a = np.array([1, 2, 3, 4, 5])\n",
    "b = np.array([5, 6, 7, 8, 9])\n",
    "\n",
    "result = np.setdiff1d(a, b)\n",
    "print(result)"
   ]
  },
  {
   "cell_type": "code",
   "execution_count": null,
   "id": "aa996106-7289-4f0d-8cd4-4c57a12f1f37",
   "metadata": {},
   "outputs": [],
   "source": []
  },
  {
   "cell_type": "markdown",
   "id": "098d3a52-b630-46e7-85ce-58d0eb854860",
   "metadata": {},
   "source": [
    "### Q9"
   ]
  },
  {
   "cell_type": "code",
   "execution_count": 48,
   "id": "471f393b-d76f-4e75-9e95-5c0f95bc09cf",
   "metadata": {},
   "outputs": [
    {
     "name": "stdout",
     "output_type": "stream",
     "text": [
      "[0 1 2 3 4 5]\n"
     ]
    }
   ],
   "source": [
    "a = np.arange(15)\n",
    "\n",
    "print(a[:6])"
   ]
  },
  {
   "cell_type": "code",
   "execution_count": null,
   "id": "b71461a5-5851-4cb2-abaa-ec2f5fcfc064",
   "metadata": {},
   "outputs": [],
   "source": []
  },
  {
   "cell_type": "markdown",
   "id": "95b46eaa-05e8-4b31-a37b-5eec0170f786",
   "metadata": {},
   "source": [
    "### 10"
   ]
  },
  {
   "cell_type": "code",
   "execution_count": 49,
   "id": "8be98ae0-f3a8-4aac-b341-245ba9c2271d",
   "metadata": {},
   "outputs": [
    {
     "name": "stdout",
     "output_type": "stream",
     "text": [
      "[1. 2. 3. 0. 5. 6. 7. 0.]\n"
     ]
    }
   ],
   "source": [
    "\n",
    "array = np.array([1, 2, 3, np.nan, 5, 6, 7, np.nan])\n",
    "\n",
    "\n",
    "cleaned_array = np.nan_to_num(array)\n",
    "\n",
    "print(cleaned_array)"
   ]
  },
  {
   "cell_type": "code",
   "execution_count": null,
   "id": "5fe297ac-d40c-430e-b59c-ea0400cfd308",
   "metadata": {},
   "outputs": [],
   "source": []
  },
  {
   "cell_type": "markdown",
   "id": "5b3dc908-1ffb-419e-9408-6ad75a02ad38",
   "metadata": {},
   "source": [
    "### Q11"
   ]
  },
  {
   "cell_type": "code",
   "execution_count": 50,
   "id": "3ab3cddd-751f-471d-8189-eb1ac83aee57",
   "metadata": {},
   "outputs": [
    {
     "name": "stdout",
     "output_type": "stream",
     "text": [
      "1D array: [ 1  2  3  4  5  6  7  8  9 10 11 12 13 14 15 16 17 18 19 20]\n",
      "2D array: [[ 1  2  3  4  5]\n",
      " [ 6  7  8  9 10]\n",
      " [11 12 13 14 15]\n",
      " [16 17 18 19 20]]\n"
     ]
    }
   ],
   "source": [
    "one_d_array = np.arange(1, 21)\n",
    "\n",
    "# Create a 2D NumPy array of shape (4, 5) with values ranging from 1 to 20\n",
    "two_d_array = np.arange(1, 21).reshape(4, 5)\n",
    "\n",
    "print(\"1D array:\", one_d_array)\n",
    "print(\"2D array:\", two_d_array)"
   ]
  },
  {
   "cell_type": "code",
   "execution_count": null,
   "id": "98ff086b-bce5-4ddb-a0a2-e39465c077d4",
   "metadata": {},
   "outputs": [],
   "source": []
  },
  {
   "cell_type": "markdown",
   "id": "1d0d15f6-b0e2-47be-8711-1b482f4ccf5e",
   "metadata": {},
   "source": [
    "### Q12"
   ]
  },
  {
   "cell_type": "code",
   "execution_count": 51,
   "id": "77af9867-a0a4-45fa-8906-0e1eb591e590",
   "metadata": {},
   "outputs": [
    {
     "name": "stdout",
     "output_type": "stream",
     "text": [
      "Shape: (2, 2, 4)\n",
      "Size: 16\n",
      "Number of dimensions: 3\n",
      "Data type: int32\n",
      "New data type: float64\n"
     ]
    }
   ],
   "source": [
    "arr = np.array([[[1, 2, 3, 4],\n",
    "                [5, 6, 7, 8]],\n",
    "               [[9, 10, 11, 12],\n",
    "                [13, 14, 15, 16]]])\n",
    "\n",
    "\n",
    "shape = arr.shape\n",
    "print(\"Shape:\", shape)  # Output: (2, 3, 4)\n",
    "\n",
    "\n",
    "size = arr.size\n",
    "print(\"Size:\", size)  # Output: 24\n",
    "\n",
    "\n",
    "ndim = arr.ndim\n",
    "print(\"Number of dimensions:\", ndim)  # Output: 3\n",
    "\n",
    "\n",
    "dtype = arr.dtype\n",
    "print(\"Data type:\", dtype)  # Output: int32 (or your default integer type)\n",
    "\n",
    "\n",
    "arr = arr.astype(np.float64)\n",
    "\n",
    "dtype = arr.dtype\n",
    "print(\"New data type:\", dtype)  "
   ]
  },
  {
   "cell_type": "code",
   "execution_count": null,
   "id": "6b23ffda-f2a6-43ed-9d1f-42aa2c8d23b5",
   "metadata": {},
   "outputs": [],
   "source": []
  },
  {
   "cell_type": "markdown",
   "id": "4513bfb6-590a-4bed-bd27-c19167e67372",
   "metadata": {},
   "source": [
    "### Q13"
   ]
  },
  {
   "cell_type": "code",
   "execution_count": 52,
   "id": "5e34305c-c508-4a56-9c76-c0fb36dea63c",
   "metadata": {},
   "outputs": [
    {
     "name": "stdout",
     "output_type": "stream",
     "text": [
      "The flattened array matches the original.\n"
     ]
    }
   ],
   "source": [
    "one_d_array = np.arange(12)\n",
    "\n",
    "two_d_array = one_d_array.reshape(3, 4)\n",
    "\n",
    "flattened_array = two_d_array.ravel()\n",
    "\n",
    "if np.array_equal(one_d_array, flattened_array):\n",
    "  print(\"The flattened array matches the original.\")\n",
    "else:\n",
    "  print(\"The flattened array does not match the original.\")"
   ]
  },
  {
   "cell_type": "code",
   "execution_count": null,
   "id": "a368fe9c-385d-4307-b052-e54316932c23",
   "metadata": {},
   "outputs": [],
   "source": []
  },
  {
   "cell_type": "markdown",
   "id": "18eb4bd4-6b5c-4a29-ad62-ff38af485b44",
   "metadata": {},
   "source": [
    "### Q14"
   ]
  },
  {
   "cell_type": "code",
   "execution_count": 53,
   "id": "cf7b672e-6d70-4622-85d1-b01f72be9940",
   "metadata": {},
   "outputs": [
    {
     "name": "stdout",
     "output_type": "stream",
     "text": [
      "Addition: [5 7 9]\n",
      "Subtraction: [-3 -3 -3]\n",
      "Multiplication: [ 4 10 18]\n",
      "Division: [0.25 0.4  0.5 ]\n",
      "Division with zero: [inf 2.  1.5]\n"
     ]
    },
    {
     "name": "stderr",
     "output_type": "stream",
     "text": [
      "C:\\Users\\sahil\\AppData\\Local\\Temp\\ipykernel_6372\\1041951278.py:22: RuntimeWarning: divide by zero encountered in divide\n",
      "  division_with_zero = a / c\n"
     ]
    }
   ],
   "source": [
    "a = np.array([1, 2, 3])\n",
    "b = np.array([4, 5, 6])\n",
    "\n",
    "# Element-wise addition\n",
    "addition = a + b\n",
    "print(\"Addition:\", addition)  \n",
    "\n",
    "# Element-wise subtraction\n",
    "subtraction = a - b\n",
    "print(\"Subtraction:\", subtraction)  \n",
    "\n",
    "# Element-wise multiplication\n",
    "multiplication = a * b\n",
    "print(\"Multiplication:\", multiplication)  \n",
    "\n",
    "# Element-wise division\n",
    "division = a / b\n",
    "print(\"Division:\", division) \n",
    "\n",
    "# Division by zero:\n",
    "c = np.array([0, 1, 2])\n",
    "division_with_zero = a / c\n",
    "print(\"Division with zero:\", division_with_zero) "
   ]
  },
  {
   "cell_type": "markdown",
   "id": "c65ada20-c274-44b5-a9b2-01e84caf4bf8",
   "metadata": {},
   "source": [
    "When dividing by zero, NumPy produces a RuntimeWarning and sets the result to inf (infinity)"
   ]
  },
  {
   "cell_type": "code",
   "execution_count": null,
   "id": "90f25779-aca1-436c-85b2-3817ddca1ed4",
   "metadata": {},
   "outputs": [],
   "source": []
  },
  {
   "cell_type": "markdown",
   "id": "973bb55f-41b1-4375-b223-24f1dc002abb",
   "metadata": {},
   "source": [
    "### Q15"
   ]
  },
  {
   "cell_type": "code",
   "execution_count": 54,
   "id": "ba595de2-3f22-4a02-9cdb-b4e2e1cd5845",
   "metadata": {},
   "outputs": [
    {
     "name": "stdout",
     "output_type": "stream",
     "text": [
      "[[5 6 7]\n",
      " [6 7 8]\n",
      " [7 8 9]]\n"
     ]
    }
   ],
   "source": [
    "array_2d = np.array([[1],\n",
    "                     [2],\n",
    "                     [3]])\n",
    "\n",
    "\n",
    "array_1d = np.array([4, 5, 6])\n",
    "\n",
    "# Perform element-wise addition using broadcasting\n",
    "result = array_2d + array_1d\n",
    "\n",
    "print(result)\n",
    "### each element of the 1D array is added to the corresponding element in each row of the 2D array."
   ]
  },
  {
   "cell_type": "code",
   "execution_count": null,
   "id": "4a223109-92b0-409e-9f9a-ba25245cb1b4",
   "metadata": {},
   "outputs": [],
   "source": []
  },
  {
   "cell_type": "markdown",
   "id": "6c66b1f9-d8a7-412b-b88d-b1ec04ab05db",
   "metadata": {},
   "source": [
    "### Q16"
   ]
  },
  {
   "cell_type": "code",
   "execution_count": 5,
   "id": "8d6ba912-b847-47b9-8e39-7b88e3c7c0a1",
   "metadata": {},
   "outputs": [
    {
     "name": "stdout",
     "output_type": "stream",
     "text": [
      "[[1 5 5 5 5]\n",
      " [5 5 5 3 0]\n",
      " [5 1 1 0 5]\n",
      " [0 5 5 4 5]]\n"
     ]
    }
   ],
   "source": [
    "random_array = np.random.randint(0, 11, (4, 5))\n",
    "\n",
    "\n",
    "mask = random_array > 5\n",
    "\n",
    "# Replace elements greater than 5 with the value 5\n",
    "random_array[mask] = 5\n",
    "\n",
    "print(random_array)"
   ]
  },
  {
   "cell_type": "code",
   "execution_count": null,
   "id": "f7a7b2b2-3204-43c5-9be5-ce67e3f759cd",
   "metadata": {},
   "outputs": [],
   "source": []
  },
  {
   "cell_type": "markdown",
   "id": "200cb078-fa7a-44b1-93b9-7cb8c8d074b2",
   "metadata": {},
   "source": [
    "### Q17"
   ]
  },
  {
   "cell_type": "code",
   "execution_count": 8,
   "id": "5fd6ae0a-6ff2-4fd8-bb65-514296f00b6e",
   "metadata": {},
   "outputs": [
    {
     "name": "stdout",
     "output_type": "stream",
     "text": [
      "Random array:\n",
      "[[7 6 7 8]\n",
      " [4 4 9 9]\n",
      " [8 4 6 6]\n",
      " [3 1 9 6]]\n",
      "\n",
      "Second row:\n",
      "[4 4 9 9]\n",
      "\n",
      "Last column:\n",
      "[8 9 6 6]\n",
      "\n",
      "Subarray:\n",
      "[[7 6]\n",
      " [4 4]]\n"
     ]
    }
   ],
   "source": [
    "random_array = np.random.randint(0, 10, (4, 4))\n",
    "\n",
    "# Extract the entire second row\n",
    "second_row = random_array[1, :]\n",
    "\n",
    "# Extract the last column\n",
    "last_column = random_array[:, -1]\n",
    "\n",
    "# Extract the subarray consisting of the first two rows and first two columns\n",
    "subarray = random_array[:2, :2]\n",
    "\n",
    "print(\"Random array:\")\n",
    "print(random_array)\n",
    "\n",
    "print(\"\\nSecond row:\")\n",
    "print(second_row)\n",
    "\n",
    "print(\"\\nLast column:\")\n",
    "print(last_column)\n",
    "\n",
    "print(\"\\nSubarray:\")\n",
    "print(subarray)"
   ]
  },
  {
   "cell_type": "code",
   "execution_count": null,
   "id": "93ab9763-fc4a-42b6-a336-4c5e6d14c513",
   "metadata": {},
   "outputs": [],
   "source": []
  },
  {
   "cell_type": "markdown",
   "id": "34073e8b-2174-4968-864a-bcefda0f5235",
   "metadata": {},
   "source": [
    "### Q18"
   ]
  },
  {
   "cell_type": "markdown",
   "id": "8e59ac0b-0230-4983-9cbc-f321640dc91a",
   "metadata": {},
   "source": [
    "EDA: Analyzing Sales Data\n",
    "Analyze sales data to identify trends and patterns.\n",
    "\n",
    "AI: Image Processing\n",
    "Perform image filtering (e.g., blurring) using NumPy.\n",
    "\n",
    "ML: Feature Engineering\n",
    "Create new features from existing data for a machine learning model.\n",
    "\n",
    "DL: Neural Network Implementation\n",
    "Implement a simple neural network for classification.               "
   ]
  },
  {
   "cell_type": "code",
   "execution_count": null,
   "id": "5a16d128-2934-4c19-b1d5-f0f6342cda08",
   "metadata": {},
   "outputs": [],
   "source": []
  },
  {
   "cell_type": "markdown",
   "id": "251f663b-7004-4a0b-aba2-57361d99bf5b",
   "metadata": {},
   "source": [
    "### Q19"
   ]
  },
  {
   "cell_type": "code",
   "execution_count": null,
   "id": "b86e22a8-b995-46d6-9e18-a06f60c287d3",
   "metadata": {},
   "outputs": [],
   "source": []
  },
  {
   "cell_type": "code",
   "execution_count": null,
   "id": "961a151c-4869-4966-8ede-e59fac45619a",
   "metadata": {},
   "outputs": [],
   "source": []
  },
  {
   "cell_type": "markdown",
   "id": "e0c6a37f-4f86-4d2c-b8e4-003040c39309",
   "metadata": {},
   "source": [
    "### Q20"
   ]
  },
  {
   "cell_type": "code",
   "execution_count": 9,
   "id": "164fddc8-60ee-4e80-8a9e-cf4c916290a2",
   "metadata": {},
   "outputs": [
    {
     "name": "stdout",
     "output_type": "stream",
     "text": [
      "The flattened array matches the original.\n"
     ]
    }
   ],
   "source": [
    "one_d_array = np.arange(27)\n",
    "\n",
    "## Reshape the 1D array into a 3x3x3 3D array\n",
    "three_d_array = one_d_array.reshape(3, 3, 3)\n",
    "\n",
    "## Flatten the 3D array back into 1D array\n",
    "flattened_array = three_d_array.flatten()\n",
    "\n",
    "## Compare the flattened array with the original\n",
    "if np.array_equal(one_d_array, flattened_array):\n",
    "    print(\"The flattened array matches the original.\")\n",
    "else:\n",
    "    print(\"The flattened array does not match the original.\")"
   ]
  },
  {
   "cell_type": "code",
   "execution_count": null,
   "id": "4b77d5a9-c481-463b-91bf-41b352adc804",
   "metadata": {},
   "outputs": [],
   "source": []
  },
  {
   "cell_type": "code",
   "execution_count": null,
   "id": "2c2f5995-b73a-45ef-9275-069ec2cc9191",
   "metadata": {},
   "outputs": [],
   "source": []
  },
  {
   "cell_type": "code",
   "execution_count": null,
   "id": "fec08e42-a711-4038-bef3-1cafe43a530f",
   "metadata": {},
   "outputs": [],
   "source": []
  },
  {
   "cell_type": "code",
   "execution_count": null,
   "id": "fcf78e28-6d99-4d2a-b851-4259d89b818f",
   "metadata": {},
   "outputs": [],
   "source": []
  },
  {
   "cell_type": "code",
   "execution_count": null,
   "id": "bb8d3edb-3ac2-42c4-aeef-0bd5ea7386cc",
   "metadata": {},
   "outputs": [],
   "source": []
  }
 ],
 "metadata": {
  "kernelspec": {
   "display_name": "Python 3 (ipykernel)",
   "language": "python",
   "name": "python3"
  },
  "language_info": {
   "codemirror_mode": {
    "name": "ipython",
    "version": 3
   },
   "file_extension": ".py",
   "mimetype": "text/x-python",
   "name": "python",
   "nbconvert_exporter": "python",
   "pygments_lexer": "ipython3",
   "version": "3.8.10"
  }
 },
 "nbformat": 4,
 "nbformat_minor": 5
}
