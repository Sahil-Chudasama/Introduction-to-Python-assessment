{
 "cells": [
  {
   "cell_type": "markdown",
   "id": "2e8b7a41-4f32-4c71-8287-533f6eb27cb6",
   "metadata": {},
   "source": [
    " # Introduction to Python"
   ]
  },
  {
   "cell_type": "markdown",
   "id": "3d52d67c-aa6e-4932-9391-ec1a59fc7ac9",
   "metadata": {},
   "source": [
    "## Q1. "
   ]
  },
  {
   "cell_type": "markdown",
   "id": "a30947e2-e07a-4e0e-a216-eb69993802e5",
   "metadata": {},
   "source": [
    "* Web Development.\n",
    "* Game Development.\n",
    "* Machine Learning and Artificial Intelligence.\n",
    "* Data Science and Data Visualization.\n",
    "* Desktop GUI.\n",
    "* Web Scraping Applications.\n",
    "* Business Applications.\n",
    "* Audio and Video Applications."
   ]
  },
  {
   "cell_type": "markdown",
   "id": "dd264a32-9b3f-4796-9299-746d1244da46",
   "metadata": {},
   "source": [
    "## Q2"
   ]
  },
  {
   "cell_type": "markdown",
   "id": "6065a3bf-0c0c-4ac0-9295-f308604fc69d",
   "metadata": {},
   "source": [
    "Programming refers to a technological process for telling a computer which tasks to perform in order to solve problems."
   ]
  },
  {
   "cell_type": "markdown",
   "id": "81b0196b-4760-49a0-8239-057a854171c1",
   "metadata": {},
   "source": [
    "## Q3"
   ]
  },
  {
   "cell_type": "markdown",
   "id": "bd3ebe67-95d6-41d5-b6a1-cfc0bceb3fd1",
   "metadata": {},
   "source": [
    "Python is a computer programming language often used to build websites and software, automate tasks, and analyze data. Python is a general-purpose language, not specialized for any specific problems, and used to create various programmes"
   ]
  },
  {
   "cell_type": "markdown",
   "id": "ca3bface-78e8-487a-97a2-bef0dd060a07",
   "metadata": {},
   "source": [
    "## Q4"
   ]
  },
  {
   "cell_type": "code",
   "execution_count": 2,
   "id": "b7cb7d61-c6ed-4af0-a4e9-a2858630ef84",
   "metadata": {},
   "outputs": [
    {
     "name": "stdin",
     "output_type": "stream",
     "text": [
      "enter num:  6\n"
     ]
    },
    {
     "name": "stdout",
     "output_type": "stream",
     "text": [
      "positive\n"
     ]
    }
   ],
   "source": [
    "x = int(input(\"enter num: \"))\n",
    "\n",
    "if (x > 0):\n",
    "    print(\"positive\")\n",
    "elif (x < 0):\n",
    "    print(\"nagative\")\n",
    "elif (x == 0):\n",
    "    print(\"Zero\")\n",
    "else:\n",
    "    print(\"not valid try again!\")"
   ]
  },
  {
   "cell_type": "markdown",
   "id": "d805f3ad-a06c-4a1e-994d-3475223c92f0",
   "metadata": {},
   "source": [
    "## Q5"
   ]
  },
  {
   "cell_type": "code",
   "execution_count": 23,
   "id": "b24983a4-c638-4356-b657-a9f11e2e5f22",
   "metadata": {},
   "outputs": [
    {
     "name": "stdin",
     "output_type": "stream",
     "text": [
      "enter num:  5\n"
     ]
    },
    {
     "name": "stdout",
     "output_type": "stream",
     "text": [
      "120\n"
     ]
    }
   ],
   "source": [
    "x = int(input(\"enter num: \"))\n",
    "num = 1\n",
    "\n",
    "for i in range(1,x+1):\n",
    "    num *= i\n",
    "\n",
    "print(num)\n"
   ]
  },
  {
   "cell_type": "code",
   "execution_count": null,
   "id": "5fccbe25-403e-46c6-b5fe-37fc8f4daffb",
   "metadata": {},
   "outputs": [],
   "source": []
  },
  {
   "cell_type": "markdown",
   "id": "99f0ec2a-d28d-4f33-842e-9e5ba1ed0777",
   "metadata": {},
   "source": [
    "## Q6"
   ]
  },
  {
   "cell_type": "code",
   "execution_count": 5,
   "id": "46305bc5-deb9-4533-84bf-b00377bdd2ff",
   "metadata": {},
   "outputs": [
    {
     "name": "stdin",
     "output_type": "stream",
     "text": [
      "enter num:  5\n"
     ]
    },
    {
     "name": "stdout",
     "output_type": "stream",
     "text": [
      "15\n"
     ]
    }
   ],
   "source": [
    "x = int(input(\"enter num: \"))\n",
    "fibo = 0\n",
    "\n",
    "for i in range(0,x+1):\n",
    "    fibo += i\n",
    "\n",
    "print(fibo)"
   ]
  },
  {
   "cell_type": "code",
   "execution_count": null,
   "id": "699e8f8f-42cc-438d-aaa0-e7c964f3434f",
   "metadata": {},
   "outputs": [],
   "source": []
  },
  {
   "cell_type": "markdown",
   "id": "1a4dd473-6ef0-47c4-a9aa-9d86cf11dc46",
   "metadata": {},
   "source": [
    "## Q7"
   ]
  },
  {
   "cell_type": "markdown",
   "id": "9d63e3d1-4649-435d-9024-3b5e40e2df9b",
   "metadata": {},
   "source": [
    "memory management in Python in one of two ways: dynamic allocation or static allocation. Dynamic allocation occurs as the program is running. This means that as the program operates, it can dynamically determine where to allocate memory while reusing and releasing it"
   ]
  },
  {
   "cell_type": "code",
   "execution_count": null,
   "id": "2e1a8087-a0a4-4a07-90d7-321f1aaa39af",
   "metadata": {},
   "outputs": [],
   "source": []
  },
  {
   "cell_type": "markdown",
   "id": "3a917d19-99c6-4c6c-8382-d258b5232d55",
   "metadata": {},
   "source": [
    "## Q8"
   ]
  },
  {
   "cell_type": "markdown",
   "id": "a8d659a8-dcd5-4963-98a4-7923904fb0a3",
   "metadata": {},
   "source": [
    "The continue statement in Python is used to skip the remaining code inside a loop for the current iteration only"
   ]
  },
  {
   "cell_type": "code",
   "execution_count": null,
   "id": "10ee5822-c716-401d-a21a-370020361837",
   "metadata": {},
   "outputs": [],
   "source": []
  },
  {
   "cell_type": "markdown",
   "id": "48ecc006-0240-47b1-8ed9-f13ca41fdc22",
   "metadata": {},
   "source": [
    "## Q9"
   ]
  },
  {
   "cell_type": "code",
   "execution_count": 7,
   "id": "668fbfc8-b885-467c-89d6-3b926d567ab1",
   "metadata": {},
   "outputs": [
    {
     "name": "stdin",
     "output_type": "stream",
     "text": [
      "Enter num x:  5\n",
      "Enter num y:  10\n"
     ]
    },
    {
     "name": "stdout",
     "output_type": "stream",
     "text": [
      "num x is: 10\n",
      "num y is: 5\n"
     ]
    }
   ],
   "source": [
    "## using temp \n",
    "\n",
    "x = int(input(\"Enter num x: \"))\n",
    "y = int(input(\"Enter num y: \"))\n",
    "\n",
    "temp = x\n",
    "x = y\n",
    "y = temp\n",
    "\n",
    "print(f'num x is: {x}')\n",
    "print(f'num y is: {y}')\n"
   ]
  },
  {
   "cell_type": "code",
   "execution_count": 8,
   "id": "e528bbd7-a073-40bd-b818-d01bd8809f06",
   "metadata": {},
   "outputs": [
    {
     "name": "stdin",
     "output_type": "stream",
     "text": [
      "Enter num x:  5\n",
      "Enter num y:  10\n"
     ]
    },
    {
     "name": "stdout",
     "output_type": "stream",
     "text": [
      "num x is: 10\n",
      "num y is: 5\n"
     ]
    }
   ],
   "source": [
    "## without using temp \n",
    "\n",
    "x = int(input(\"Enter num x: \"))\n",
    "y = int(input(\"Enter num y: \"))\n",
    "\n",
    "x, y = y, x\n",
    "\n",
    "print(f'num x is: {x}')\n",
    "print(f'num y is: {y}')"
   ]
  },
  {
   "cell_type": "code",
   "execution_count": null,
   "id": "fc89c000-bf7f-415a-9663-81df34516502",
   "metadata": {},
   "outputs": [],
   "source": []
  },
  {
   "cell_type": "markdown",
   "id": "bdf87528-994c-40ed-bd55-0e78f0775f1c",
   "metadata": {},
   "source": [
    "## Q10"
   ]
  },
  {
   "cell_type": "code",
   "execution_count": 12,
   "id": "5cc987ca-732d-47eb-958b-d93ed91786b5",
   "metadata": {},
   "outputs": [
    {
     "name": "stdin",
     "output_type": "stream",
     "text": [
      "Enter num x:  7\n"
     ]
    },
    {
     "name": "stdout",
     "output_type": "stream",
     "text": [
      "7 num is odd\n"
     ]
    }
   ],
   "source": [
    "x = int(input(\"Enter num x: \"))\n",
    "\n",
    "if (x % 2 == 0):\n",
    "    print(f'{x} num is even')\n",
    "else:\n",
    "    print(f'{x} num is odd')"
   ]
  },
  {
   "cell_type": "code",
   "execution_count": null,
   "id": "ecd81937-4317-4834-816a-3c42c243c3f1",
   "metadata": {},
   "outputs": [],
   "source": []
  },
  {
   "cell_type": "code",
   "execution_count": null,
   "id": "b9e5e299-8bee-4c71-897e-b266e80e5126",
   "metadata": {},
   "outputs": [],
   "source": []
  },
  {
   "cell_type": "code",
   "execution_count": null,
   "id": "8aeeb445-2f5d-44e0-8c0f-2e60c4cb9458",
   "metadata": {},
   "outputs": [],
   "source": []
  },
  {
   "cell_type": "code",
   "execution_count": null,
   "id": "692571c2-854b-4791-b8a1-88f42a428567",
   "metadata": {},
   "outputs": [],
   "source": []
  },
  {
   "cell_type": "code",
   "execution_count": null,
   "id": "79048a80-f963-4ee5-a4c6-32f09e2251df",
   "metadata": {},
   "outputs": [],
   "source": []
  },
  {
   "cell_type": "code",
   "execution_count": null,
   "id": "4b248490-540b-4fa8-a9c0-adad8d6bcadd",
   "metadata": {},
   "outputs": [],
   "source": []
  },
  {
   "cell_type": "code",
   "execution_count": null,
   "id": "e40f0a51-ad77-4cad-8ea8-3f3b156fcab0",
   "metadata": {},
   "outputs": [],
   "source": []
  },
  {
   "cell_type": "code",
   "execution_count": null,
   "id": "45713e28-5910-4651-ad53-e45f1f04917e",
   "metadata": {},
   "outputs": [],
   "source": []
  },
  {
   "cell_type": "code",
   "execution_count": null,
   "id": "03992cfa-5112-4a2c-92ea-4a8813ccdc6e",
   "metadata": {},
   "outputs": [],
   "source": []
  }
 ],
 "metadata": {
  "kernelspec": {
   "display_name": "Python 3 (ipykernel)",
   "language": "python",
   "name": "python3"
  },
  "language_info": {
   "codemirror_mode": {
    "name": "ipython",
    "version": 3
   },
   "file_extension": ".py",
   "mimetype": "text/x-python",
   "name": "python",
   "nbconvert_exporter": "python",
   "pygments_lexer": "ipython3",
   "version": "3.8.10"
  }
 },
 "nbformat": 4,
 "nbformat_minor": 5
}
